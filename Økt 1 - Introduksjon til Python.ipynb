{
 "cells": [
  {
   "cell_type": "markdown",
   "metadata": {},
   "source": [
    "# Introduksjon til Python 3"
   ]
  },
  {
   "cell_type": "markdown",
   "metadata": {},
   "source": [
    "Plan for i dag:\n",
    "\n",
    "1. Matematiske operasjoner.\n",
    "2. Variabler.\n",
    "3. Input og output."
   ]
  },
  {
   "cell_type": "markdown",
   "metadata": {},
   "source": [
    "## Matematiske operasjoner"
   ]
  },
  {
   "cell_type": "markdown",
   "metadata": {},
   "source": [
    "### Oppgave 1.\n",
    "\n",
    "Ta to heltall. Regn ut summen, differansen, produktet og divisjonen."
   ]
  },
  {
   "cell_type": "markdown",
   "metadata": {},
   "source": [
    "### Oppgave 2.\n",
    "\n",
    "En operasjon i Python 3 er gitt ved `a//b`<br/>\n",
    "Du skal gjette hva denne operasjonen er.\n",
    "\n",
    "Regn ut f.eks. eller prøv med andre tall:<br/>\n",
    "<br/>\n",
    "(a). `5//2`<br/>\n",
    "(b). `3//2`<br/>\n",
    "(c). `1//9`<br/>\n",
    "(d). `10//3`<br/>\n",
    "(e). `4//8`<br/>\n",
    "<br/>\n",
    "(Hint: sammenlign med divisjonen)."
   ]
  },
  {
   "cell_type": "markdown",
   "metadata": {},
   "source": [
    "### Oppgave 3.\n",
    "\n",
    "En operasjon i Python 3 er gitt ved `a**b`<br/>\n",
    "Du skal gjette hva denne operasjonen er.\n",
    "\n",
    "Regn ut f.eks.:<br/>\n",
    "<br/>\n",
    "(a). `2**4`<br/>\n",
    "(a). `3**2`<br/>\n",
    "(a). `5**3`<br/>\n",
    "(a). `1**1000`<br/>\n",
    "(a). `2018**0`<br/>"
   ]
  },
  {
   "cell_type": "markdown",
   "metadata": {},
   "source": [
    "### Oppgave 4.\n",
    "\n",
    "Sidepersonen din lurer på hvordan man kan regne ut f.eks. kvadratroten til et tall.<br/>\n",
    "Hjelp sidepersonen din med å regne ut $\\sqrt{9}$.<br/>\n",
    "(Hint: det finnes flere strategier.)"
   ]
  },
  {
   "cell_type": "code",
   "execution_count": 44,
   "metadata": {},
   "outputs": [
    {
     "name": "stdout",
     "output_type": "stream",
     "text": [
      "3.0\n"
     ]
    }
   ],
   "source": [
    "print(9**(1/2))"
   ]
  },
  {
   "cell_type": "code",
   "execution_count": 45,
   "metadata": {},
   "outputs": [
    {
     "name": "stdout",
     "output_type": "stream",
     "text": [
      "3.0\n"
     ]
    }
   ],
   "source": [
    "import math\n",
    "\n",
    "print(math.sqrt(9))"
   ]
  },
  {
   "cell_type": "markdown",
   "metadata": {},
   "source": [
    "### Hva er `import math` ?"
   ]
  },
  {
   "cell_type": "markdown",
   "metadata": {},
   "source": [
    "Ikke alle operasjoner er innebygd i Python.<br/>\n",
    "Her er `math` en **pakke / bibliotek**.<br/>\n",
    "<br/>\n",
    "Pakker har ofte en **dokumentasjon**.<br/>\n",
    "Man kan bruke dokumentasjon til å lære seg bruken av pakken."
   ]
  },
  {
   "cell_type": "markdown",
   "metadata": {},
   "source": [
    "### Oppgave 5.\n",
    "\n",
    "Dokumentasjonen til pakken `math` er tilgjengelig her: https://docs.python.org/3/library/math.html<br/>\n",
    "Bruk dokumentasjonen til å utforske funksjoner og se hva de betyr matematisk."
   ]
  },
  {
   "cell_type": "markdown",
   "metadata": {},
   "source": [
    "## Variabler"
   ]
  },
  {
   "cell_type": "code",
   "execution_count": 22,
   "metadata": {},
   "outputs": [
    {
     "name": "stdout",
     "output_type": "stream",
     "text": [
      "5\n"
     ]
    }
   ],
   "source": [
    "a=2 \n",
    "b=3\n",
    "\n",
    "print(a+b)"
   ]
  },
  {
   "cell_type": "markdown",
   "metadata": {},
   "source": [
    "Her er `a` og `b` **datatyper**.<br/>\n",
    "Ovenfor lagret vi `a` og `b` som heltall (`int`).<br/>\n",
    "<br/>\n",
    "Det finnes andre datatyper som f.eks:\n",
    "* `int` - heltall\n",
    "* `float` - reelle tall\n",
    "* `string` - tekst\n",
    "* `boolean` - sant/usant<br/>\n",
    "<br/>\n",
    "\n",
    "..og mange andre som vi skal se utover året."
   ]
  },
  {
   "cell_type": "code",
   "execution_count": 24,
   "metadata": {},
   "outputs": [
    {
     "name": "stdout",
     "output_type": "stream",
     "text": [
      "4.5\n"
     ]
    }
   ],
   "source": [
    "# Eksempel på float\n",
    "\n",
    "c=4.5\n",
    "print(c)"
   ]
  },
  {
   "cell_type": "code",
   "execution_count": 20,
   "metadata": {},
   "outputs": [
    {
     "name": "stdout",
     "output_type": "stream",
     "text": [
      "Abdul\n"
     ]
    }
   ],
   "source": [
    "# Eksempel på string\n",
    "\n",
    "navn=\"Abdul\"\n",
    "print(navn)"
   ]
  },
  {
   "cell_type": "markdown",
   "metadata": {},
   "source": [
    "### Oppgave 6.\n",
    "\n",
    "Forklar en partner hva koden under gjør."
   ]
  },
  {
   "cell_type": "code",
   "execution_count": 34,
   "metadata": {},
   "outputs": [
    {
     "name": "stdout",
     "output_type": "stream",
     "text": [
      "AbdulSaliha\n",
      "Abdul Saliha\n",
      "ProgrammeringProgrammeringProgrammeringProgrammeringProgrammering\n",
      "g\n",
      "ogram\n"
     ]
    }
   ],
   "source": [
    "# Hihi\n",
    "\n",
    "navn1 = \"Abdul\"\n",
    "navn2 = \"Saliha\"\n",
    "kult = \"Programmering\"\n",
    "\n",
    "print(navn1+navn2)\n",
    "print(navn1,navn2)\n",
    "print(kult*5)\n",
    "print(kult[3])\n",
    "print(kult[2:7])"
   ]
  },
  {
   "cell_type": "markdown",
   "metadata": {},
   "source": [
    "### Oppgave 7.\n",
    "\n",
    "Skriv inn navnet ditt som en variabel.<br/>\n",
    "Velg variabelnavnet ditt selv.<br/>\n",
    "<br/>\n",
    "(a). Skriv ut navnet ditt 1000 ganger.<br/>\n",
    "(b). Skriv ut den første bokstaven i navnet ditt.<br/>\n",
    "(c). Skriv ut de siste to bokstavene i navnet ditt.<br/>\n",
    "(d). Hva gjør følgende: `print(len(\"Matematikk\"))`"
   ]
  },
  {
   "cell_type": "code",
   "execution_count": 38,
   "metadata": {},
   "outputs": [
    {
     "ename": "SyntaxError",
     "evalue": "invalid syntax (<ipython-input-38-4430490e001f>, line 3)",
     "output_type": "error",
     "traceback": [
      "\u001b[1;36m  File \u001b[1;32m\"<ipython-input-38-4430490e001f>\"\u001b[1;36m, line \u001b[1;32m3\u001b[0m\n\u001b[1;33m    import = 5\u001b[0m\n\u001b[1;37m           ^\u001b[0m\n\u001b[1;31mSyntaxError\u001b[0m\u001b[1;31m:\u001b[0m invalid syntax\n"
     ]
    }
   ],
   "source": [
    "# Obs: variabelnavn\n",
    "\n",
    "import = 5\n"
   ]
  },
  {
   "cell_type": "markdown",
   "metadata": {},
   "source": [
    "### Booleanske variabler\n",
    "\n",
    "Python kan sjekke om matematiske påstander er sanne eller usanne.<br/>\n",
    "En påstand som er enten sann/usann er en `boolean`. De tar verdien `False` eller `True`<br/>"
   ]
  },
  {
   "cell_type": "code",
   "execution_count": 41,
   "metadata": {},
   "outputs": [
    {
     "name": "stdout",
     "output_type": "stream",
     "text": [
      "False\n"
     ]
    }
   ],
   "source": [
    "print(2>3)"
   ]
  },
  {
   "cell_type": "code",
   "execution_count": 40,
   "metadata": {},
   "outputs": [
    {
     "name": "stdout",
     "output_type": "stream",
     "text": [
      "True\n"
     ]
    }
   ],
   "source": [
    "print(4<9)"
   ]
  },
  {
   "cell_type": "markdown",
   "metadata": {},
   "source": [
    "### Oppgave 8.\n",
    "\n",
    "La $a=2$ og $b=3$. Man kan bruke **logiske operatorer** for å sammenlikne tall.\n",
    "<br/><br/>\n",
    "(a). Sjekk om $2<3$ er sant eller usant.<br/>\n",
    "(b). Sjekk om $2\\leq 3$ er sant eller usant.<br/>\n",
    "(c). Sjekk om $2\\geq 3$ er sant eller usant.<br/>\n",
    "(e). Sjekk om $2 = 3$ er sant eller usant.<br/>\n",
    "<br/>\n",
    "(Hint: poenget med oppgaven er å få deg til å se hvordan logiske operatorer skrives)."
   ]
  },
  {
   "cell_type": "code",
   "execution_count": 43,
   "metadata": {},
   "outputs": [
    {
     "name": "stdout",
     "output_type": "stream",
     "text": [
      "False\n",
      "True\n",
      "False\n",
      "True\n"
     ]
    }
   ],
   "source": [
    "print(2>=3)\n",
    "print(2<=3)\n",
    "print(2==3)\n",
    "print(2!=3)"
   ]
  },
  {
   "cell_type": "markdown",
   "metadata": {},
   "source": [
    "## Input og output"
   ]
  },
  {
   "cell_type": "markdown",
   "metadata": {},
   "source": [
    "**Input** = noe brukeren taster inn<br/>\n",
    "**Output** = noe brukeren får tilbake"
   ]
  },
  {
   "cell_type": "code",
   "execution_count": null,
   "metadata": {},
   "outputs": [],
   "source": [
    "# Eksempel på input\n",
    "\n",
    "\n",
    "tekst = input(\"programmering er \")\n",
    "print(\"matematikk er også\",tekst*10)"
   ]
  },
  {
   "cell_type": "code",
   "execution_count": null,
   "metadata": {},
   "outputs": [],
   "source": [
    "# Inntasting lagres som string\n",
    "\n",
    "\n",
    "fodselsaar = input(\"Skriv inn fødselsåret ditt: \")\n",
    "alder = 2018-fodselsaar\n",
    "print(alder)"
   ]
  },
  {
   "cell_type": "markdown",
   "metadata": {},
   "source": [
    "### Oppgave 9.\n",
    "\n",
    "Lag et program som har navnet ditt som input og skriv ut \"[Navnet ditt] digger programmering og matematikk.\" "
   ]
  },
  {
   "cell_type": "markdown",
   "metadata": {},
   "source": [
    "### Oppgave 10.\n",
    "\n",
    "Lag et program der brukeren taster inn et tall og programmet returnerer det dobbelte av tallet."
   ]
  },
  {
   "cell_type": "markdown",
   "metadata": {},
   "source": [
    "### Oppgave 11.\n",
    "\n",
    "Lag et program der brukeren taster inn to tall og programmet returnerer produktet mellom tallene."
   ]
  },
  {
   "cell_type": "markdown",
   "metadata": {},
   "source": [
    "### Oppgave 12.\n",
    "\n",
    "Lag et program som regner ut omkretsen til en sirkel.<br/>\n",
    "<br/>\n",
    "Input: `r` for radien.<br/>\n",
    "Output: omkretsen til sirkelen.   "
   ]
  },
  {
   "cell_type": "markdown",
   "metadata": {},
   "source": [
    "### Flere oppgaver.\n",
    "\n",
    "I læreboka, side 47-52:\n",
    "* 3.3-3.6.3.\n",
    "* 3.7, 3.9-3.12.\n",
    "* 3.14, 3.20, 3.24, 3.27."
   ]
  },
  {
   "cell_type": "code",
   "execution_count": null,
   "metadata": {},
   "outputs": [],
   "source": []
  }
 ],
 "metadata": {
  "kernelspec": {
   "display_name": "Python 3",
   "language": "python",
   "name": "python3"
  },
  "language_info": {
   "codemirror_mode": {
    "name": "ipython",
    "version": 3
   },
   "file_extension": ".py",
   "mimetype": "text/x-python",
   "name": "python",
   "nbconvert_exporter": "python",
   "pygments_lexer": "ipython3",
   "version": "3.6.5"
  }
 },
 "nbformat": 4,
 "nbformat_minor": 2
}
