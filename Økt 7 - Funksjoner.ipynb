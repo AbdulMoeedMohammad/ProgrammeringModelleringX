{
 "cells": [
  {
   "cell_type": "markdown",
   "metadata": {
    "slideshow": {
     "slide_type": "slide"
    }
   },
   "source": [
    "# Funksjoner"
   ]
  },
  {
   "cell_type": "markdown",
   "metadata": {
    "slideshow": {
     "slide_type": "fragment"
    }
   },
   "source": [
    "1. Hva er en funksjon i Python?\n",
    "2. Hvorfor trenger vi funksjoner?\n",
    "3. Hva betyr det \"å kalle\" en funksjon?\n",
    "4. Hva er \"parametere\" til en funksjon?\n",
    "5. Hva er \"returverdiene\" til funksjon?"
   ]
  },
  {
   "cell_type": "markdown",
   "metadata": {
    "slideshow": {
     "slide_type": "slide"
    }
   },
   "source": [
    "## Motivasjon"
   ]
  },
  {
   "cell_type": "code",
   "execution_count": 1,
   "metadata": {
    "slideshow": {
     "slide_type": "fragment"
    }
   },
   "outputs": [
    {
     "name": "stdout",
     "output_type": "stream",
     "text": [
      "Abdul er fra Gamlebyen\n",
      "Philippe er fra Frankrike\n",
      "Andreas er fra Hønefoss\n",
      "Donald er fra Andeby\n",
      "Paul er fra Budapest\n"
     ]
    }
   ],
   "source": [
    "print(\"Abdul er fra Gamlebyen\")\n",
    "print(\"Philippe er fra Frankrike\")\n",
    "print(\"Andreas er fra Hønefoss\")\n",
    "print(\"Donald er fra Andeby\")\n",
    "print(\"Paul er fra Budapest\")"
   ]
  },
  {
   "cell_type": "markdown",
   "metadata": {
    "slideshow": {
     "slide_type": "fragment"
    }
   },
   "source": [
    "## Spørsmål.\n",
    "\n",
    "a) Hva er \"felles\" for kodelinjene ovenfor?<br/>\n",
    "b) Klarer du å generalisere kodelinjene ovenfor til generell kode?"
   ]
  },
  {
   "cell_type": "markdown",
   "metadata": {
    "slideshow": {
     "slide_type": "slide"
    }
   },
   "source": [
    "## Generalisering\n",
    "\n",
    "Alle linjene istad var på formen `print(navn, \"er fra\", by)`<br/>\n",
    "Hva hvis vi kunne ha en **funksjon** som tok `navn` og `by` som input og ga linjen over som output."
   ]
  },
  {
   "cell_type": "code",
   "execution_count": 8,
   "metadata": {
    "slideshow": {
     "slide_type": "fragment"
    }
   },
   "outputs": [],
   "source": [
    "#Generaliserer til en funksjon.\n",
    "\n",
    "def hvorKommerDuFra(navn, by):\n",
    "    return print(navn, \"er fra\", by)"
   ]
  },
  {
   "cell_type": "markdown",
   "metadata": {
    "slideshow": {
     "slide_type": "fragment"
    }
   },
   "source": [
    "* `navn` og `by` er **parametere** (input)\n",
    "* Vi har kalt funksjonen vår `hvorKommerDuFra`."
   ]
  },
  {
   "cell_type": "markdown",
   "metadata": {
    "slideshow": {
     "slide_type": "slide"
    }
   },
   "source": [
    "## Kalle en funksjon"
   ]
  },
  {
   "cell_type": "code",
   "execution_count": 9,
   "metadata": {
    "slideshow": {
     "slide_type": "fragment"
    }
   },
   "outputs": [
    {
     "name": "stdout",
     "output_type": "stream",
     "text": [
      "Abdul er fra Gamlebyen\n"
     ]
    }
   ],
   "source": [
    "hvorKommerDuFra(\"Abdul\", \"Gamlebyen\")"
   ]
  },
  {
   "cell_type": "code",
   "execution_count": 10,
   "metadata": {
    "slideshow": {
     "slide_type": "fragment"
    }
   },
   "outputs": [
    {
     "name": "stdout",
     "output_type": "stream",
     "text": [
      "Euler er fra Sveits\n"
     ]
    }
   ],
   "source": [
    "hvorKommerDuFra(\"Euler\", \"Sveits\")"
   ]
  },
  {
   "cell_type": "markdown",
   "metadata": {
    "slideshow": {
     "slide_type": "fragment"
    }
   },
   "source": [
    "* Å skrive `hvorKommerDuFra(\"Abdul\", \"Gamlebyen\")` sier vi som: \"**å kalle** funksjonen hvorKommerDuFra med parameterne Abdul og Gamlebyen\".\n",
    "* `return` betyr her det funksjonen **returnerer**"
   ]
  },
  {
   "cell_type": "markdown",
   "metadata": {
    "slideshow": {
     "slide_type": "slide"
    }
   },
   "source": [
    "## Oppgave 1.\n",
    "\n",
    "Se på koden nedenfor. Diskuter med en partner følgende ting."
   ]
  },
  {
   "cell_type": "code",
   "execution_count": 13,
   "metadata": {
    "slideshow": {
     "slide_type": "fragment"
    }
   },
   "outputs": [],
   "source": [
    "def søsken(navn, søster):\n",
    "    return print(navn, \"sin søster er\", søster)"
   ]
  },
  {
   "cell_type": "markdown",
   "metadata": {
    "slideshow": {
     "slide_type": "fragment"
    }
   },
   "source": [
    "(a). Hva er navnet på funksjonen ovenfor?<br/>\n",
    "(b). Hva er parameterne til funksjonen ovenfor?<br/>\n",
    "(c). Hva returnerer funksjonen ovenfor?<br/>\n",
    "(d). Hva skjer hvis vi skriver `søsken(\"Anders Bjørgen\", \"Marit Bjørgen\")` ?<br/>\n",
    "(e). Lag et eksempel på et kall på funksjonen alder med selvvalgte parametere."
   ]
  },
  {
   "cell_type": "markdown",
   "metadata": {
    "slideshow": {
     "slide_type": "slide"
    }
   },
   "source": [
    "## Oppgave 2.\n",
    "\n",
    "Se på koden nedenfor. Diskuter med en partner følgende ting."
   ]
  },
  {
   "cell_type": "code",
   "execution_count": 19,
   "metadata": {
    "slideshow": {
     "slide_type": "fragment"
    }
   },
   "outputs": [],
   "source": [
    "def dobling(tall):\n",
    "    return 2*tall"
   ]
  },
  {
   "cell_type": "markdown",
   "metadata": {
    "slideshow": {
     "slide_type": "fragment"
    }
   },
   "source": [
    "(a). Hva er navnet på funksjonen ovenfor?<br/>\n",
    "(b). Hva er parameteren til funksjonen ovenfor?<br/>\n",
    "(c). Hva returnerer funksjonen ovenfor?<br/>\n",
    "(d). Hva skjer hvis vi skriver `dobling(2018)` ?<br/>\n",
    "(e). Lag et eksempel på et kall på funksjonen alder med selvvalgte parametere."
   ]
  },
  {
   "cell_type": "markdown",
   "metadata": {
    "slideshow": {
     "slide_type": "slide"
    }
   },
   "source": [
    "## Oppgave 3.\n",
    "\n",
    "Se på koden nedenfor. Diskuter med en partner følgende ting."
   ]
  },
  {
   "cell_type": "code",
   "execution_count": 20,
   "metadata": {
    "slideshow": {
     "slide_type": "fragment"
    }
   },
   "outputs": [],
   "source": [
    "def sjekkPositiv(n):\n",
    "    if n>0:\n",
    "        return True\n",
    "    else:\n",
    "        return False    "
   ]
  },
  {
   "cell_type": "markdown",
   "metadata": {},
   "source": [
    "(a). Hva er navnet på funksjonen ovenfor?<br/>\n",
    "(b). Hva er parameteren til funksjonen ovenfor?<br/>\n",
    "(c). Hva returnerer funksjonen ovenfor?<br/>\n",
    "(d). Hva skjer hvis vi skriver `sjekkPositiv(2018)` og `sjekkPositiv(-6)`?<br/>\n",
    "(e). Lag et eksempel på et kall på funksjonen alder med selvvalgte parametere.<br/>\n",
    "(f). Hvorfor kan en slik funksjon være nyttig?"
   ]
  },
  {
   "cell_type": "markdown",
   "metadata": {
    "slideshow": {
     "slide_type": "slide"
    }
   },
   "source": [
    "## Hvorfor trenger vi funksjoner i Python?"
   ]
  },
  {
   "cell_type": "markdown",
   "metadata": {
    "slideshow": {
     "slide_type": "slide"
    }
   },
   "source": [
    "## Oppgave 4.\n",
    "\n",
    "Lag en funksjon med navnet `storstToTall`.<br/>\n",
    "Funksjonen skal ha to tall som parametere.<br/>\n",
    "Funksjonen skal returnere det største av de to tallene.<br/>"
   ]
  },
  {
   "cell_type": "code",
   "execution_count": 21,
   "metadata": {
    "slideshow": {
     "slide_type": "subslide"
    }
   },
   "outputs": [],
   "source": [
    "def storstTall(a, b):\n",
    "    if a>b:\n",
    "        return a\n",
    "    else:\n",
    "        return b"
   ]
  },
  {
   "cell_type": "markdown",
   "metadata": {
    "slideshow": {
     "slide_type": "slide"
    }
   },
   "source": [
    "## Oppgave 5.\n",
    "\n",
    "Lag en funksjon med navnet `kvadrattall`.<br/>\n",
    "Funksjonen skal ha et tall som parameter.<br/>\n",
    "Funksjonen skal returnere kvadratet til tallet.<br/>\n",
    "Test funksjonen med å lage passende kall.<br/>\n",
    "\n",
    "\n",
    "## Oppgave 6.\n",
    "\n",
    "Lag en funksjon med navnet `Pythagoras`.<br/>\n",
    "Funksjonen skal ha to sidelengdene til kateter som parametere.<br/>\n",
    "Funksjonen skal returnere sidelengden til hypotenusen.<br/>\n",
    "Test funksjonen med å lage passende kall.<br/>\n",
    "\n",
    "\n",
    "## Oppgave 7.\n",
    "\n",
    "Lag en funksjon med navnet `NullTilHundre`.<br/>\n",
    "Funksjonen skal ha et tall $x$ som parameter.<br/>\n",
    "Funksjonen skal returnere en boolean som sier hvorvidt $x\\in [0,100)$.<br/>\n",
    "Test funksjonen med å lage passende kall.<br/>"
   ]
  },
  {
   "cell_type": "markdown",
   "metadata": {
    "slideshow": {
     "slide_type": "slide"
    }
   },
   "source": [
    "## Oppgave 8.\n",
    "\n",
    "I denne oppgaven skal du lage flere funksjoner i samme fil.<br/>\n",
    "<br/>\n",
    "Funksjon 1 skal ha navnet `ikkeNegativHeltall` og sjekke om en parameter er et heltall $\\geq 0$. Funksjon 1 skal returnere en passende boolean.<br/>\n",
    "Funksjon 2 skal ha navnet `kvadratTall` og sjekke om en parameter er et kvadrattall (ikke-negativ heltall på formen $n^2$). Funksjon 2 skal returnere en passende passende tekst.<br/>\n",
    "Funksjon 2 skal kalle på funksjon 1 for å sjekke om tallet er ikke-negativt."
   ]
  },
  {
   "cell_type": "code",
   "execution_count": 33,
   "metadata": {
    "slideshow": {
     "slide_type": "subslide"
    }
   },
   "outputs": [],
   "source": [
    "import math\n",
    "\n",
    "# Funksjon 1\n",
    "def ikkeNegativHeltall(tall):\n",
    "    if (tall>=0) and (tall%1==0):\n",
    "        return True\n",
    "    else:\n",
    "        return False\n",
    "    \n",
    "# Funksjon 3\n",
    "def ikkeKvadratTall(m):\n",
    "    return print(m, \"er ikke et kvadrattall..\")\n",
    "\n",
    "# Funksjon 2\n",
    "def kvadratTall(q):\n",
    "    if ikkeNegativHeltall(q)==True:\n",
    "        if (math.sqrt(q)%1==0):\n",
    "            print(q, \"er et kvadrattall!\")\n",
    "        else:\n",
    "            ikkeKvadratTall(q)\n",
    "    else:\n",
    "        ikkeKvadratTall(q)"
   ]
  },
  {
   "cell_type": "code",
   "execution_count": 36,
   "metadata": {
    "slideshow": {
     "slide_type": "fragment"
    }
   },
   "outputs": [
    {
     "name": "stdout",
     "output_type": "stream",
     "text": [
      "25 er et kvadrattall!\n",
      "73 er ikke et kvadrattall..\n",
      "55.3 er ikke et kvadrattall..\n",
      "-2018 er ikke et kvadrattall..\n"
     ]
    }
   ],
   "source": [
    "kvadratTall(25)\n",
    "kvadratTall(73)\n",
    "kvadratTall(55.3)\n",
    "kvadratTall(-2018)"
   ]
  },
  {
   "cell_type": "markdown",
   "metadata": {
    "slideshow": {
     "slide_type": "slide"
    }
   },
   "source": [
    "## Oppgave 9.\n",
    "\n",
    "Lag en funksjon som har tre tall som parametere.<br/> Funksjonen skal returnere det største tallet.\n",
    "\n",
    "\n",
    "## Oppgave 10.\n",
    "\n",
    "Lag en funksjon som passer til den matematiske funksjonen $f(n)=n^2+1$.<br/> Lag en løkke som regner ut alle heltallsverdier av $f$ når $n\\in [25,100]$.\n",
    "\n",
    "\n",
    "## Oppgave 11.\n",
    "\n",
    "En **divisor** til heltallet $N$ er et hetall $m$ slik at $\\displaystyle\\frac{N}{m}$ er et heltall.<br/>\n",
    "(a). Lag en funksjon som avgjør om sjekker om $m$ er divisor av $N$. <br/>\n",
    "(b). Lag en løkke som finner alle positive divisorer til $N$. <br/>\n",
    "(c). Lag en funksjon som returnerer summen av de positive divisorene til $N$.<br/>\n",
    "<br/>\n",
    "Et positivt heltall $r$ kalles **perfekt** hvis summen av de positive divisorene (utenom tallet selv) er lik $r$.<br/>\n",
    "(d). Lag en funksjon som sjekker om en parameter er et perfekt tall."
   ]
  },
  {
   "cell_type": "code",
   "execution_count": null,
   "metadata": {},
   "outputs": [],
   "source": []
  }
 ],
 "metadata": {
  "celltoolbar": "Slideshow",
  "kernelspec": {
   "display_name": "Python 3",
   "language": "python",
   "name": "python3"
  },
  "language_info": {
   "codemirror_mode": {
    "name": "ipython",
    "version": 3
   },
   "file_extension": ".py",
   "mimetype": "text/x-python",
   "name": "python",
   "nbconvert_exporter": "python",
   "pygments_lexer": "ipython3",
   "version": "3.6.5"
  }
 },
 "nbformat": 4,
 "nbformat_minor": 2
}
