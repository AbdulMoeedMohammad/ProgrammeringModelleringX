{
 "cells": [
  {
   "cell_type": "markdown",
   "metadata": {
    "slideshow": {
     "slide_type": "slide"
    }
   },
   "source": [
    "# Funksjoner"
   ]
  },
  {
   "cell_type": "markdown",
   "metadata": {
    "slideshow": {
     "slide_type": "fragment"
    }
   },
   "source": [
    "1. Repetisjon om funksjoner.\n",
    "2. Hva er rekursjon?\n",
    "3. Lambdafunksjoner."
   ]
  },
  {
   "cell_type": "markdown",
   "metadata": {
    "slideshow": {
     "slide_type": "slide"
    }
   },
   "source": [
    "## Repetisjon\n"
   ]
  },
  {
   "cell_type": "code",
   "execution_count": 2,
   "metadata": {
    "slideshow": {
     "slide_type": "fragment"
    }
   },
   "outputs": [],
   "source": [
    "def dyreLyd(dyrenavn):\n",
    "    if dyrenavn == \"Løve\":\n",
    "        return \"Brøl\"\n",
    "    elif dyrenavn == \"Hund\":\n",
    "        return \"Voff\"\n",
    "    else:\n",
    "        return \"Vet ikke hva dette dyret sier.\""
   ]
  },
  {
   "cell_type": "markdown",
   "metadata": {
    "slideshow": {
     "slide_type": "fragment"
    }
   },
   "source": [
    "**Diskuter med en partner.**<br/>\n",
    "<br/>\n",
    "a) Hva betyr koden ovenfor?<br/>\n",
    "b) Hva betyr ordene: parameter, funksjonsnavn, returverdi?<br/>\n",
    "c) Hva betyr det å kalle på en funksjon? Hvilket kall gir returverdien `Voff` ?<br/>\n",
    "d) Hva skjer hvis vi skriver `dyreLyd(Katt)` ? Vil programmet gi output?<br/>\n",
    "e) Hva skjer hvis vi skriver `dyreLyd()` ? Hvorfor? <br/>\n",
    "f) Hvorfor trengte man funksjoner?"
   ]
  },
  {
   "cell_type": "markdown",
   "metadata": {
    "slideshow": {
     "slide_type": "slide"
    }
   },
   "source": [
    "## Rekursjon\n",
    "\n",
    "Vi skal se en annen måte å utforme funksjoner.<br/>\n",
    "Nemlig, **rekursiv** bruk av funksjoner.<br/>\n",
    "<br/>\n",
    "<br/>\n",
    "...kø, der ingen kan telle bakover."
   ]
  },
  {
   "cell_type": "markdown",
   "metadata": {
    "slideshow": {
     "slide_type": "slide"
    }
   },
   "source": [
    "## Motivasjon\n",
    "\n",
    "Hva gjør koden nedenfor?"
   ]
  },
  {
   "cell_type": "code",
   "execution_count": 7,
   "metadata": {
    "slideshow": {
     "slide_type": "fragment"
    }
   },
   "outputs": [],
   "source": [
    "def fakultet(tall):\n",
    "    if tall == 1:\n",
    "        return 1\n",
    "    else:\n",
    "        return tall*fakultet(tall-1)          "
   ]
  },
  {
   "cell_type": "markdown",
   "metadata": {
    "slideshow": {
     "slide_type": "fragment"
    }
   },
   "source": [
    "I returverdien kaller man på samme funksjon, men med en annen parameter!<br/>\n",
    "Dette er eksempel på en **rekursiv** funksjon.<br/>\n",
    "<br/>\n",
    "Se tavle for tegning av hva som skjer!"
   ]
  },
  {
   "cell_type": "markdown",
   "metadata": {
    "slideshow": {
     "slide_type": "slide"
    }
   },
   "source": [
    "## Spørsmål 1\n",
    "\n",
    "Hva er returverdien til kallet: `hemmelig(5)` ?<br/>\n",
    "(Tips: tegn hva som skjer!)"
   ]
  },
  {
   "cell_type": "code",
   "execution_count": 15,
   "metadata": {
    "slideshow": {
     "slide_type": "fragment"
    }
   },
   "outputs": [],
   "source": [
    "def hemmelig(n):\n",
    "    if n==0:\n",
    "        return 1\n",
    "    else:\n",
    "        return 3*hemmelig(n-1)"
   ]
  },
  {
   "cell_type": "code",
   "execution_count": 16,
   "metadata": {
    "slideshow": {
     "slide_type": "fragment"
    }
   },
   "outputs": [
    {
     "data": {
      "text/plain": [
       "243"
      ]
     },
     "execution_count": 16,
     "metadata": {},
     "output_type": "execute_result"
    }
   ],
   "source": [
    "hemmelig(5)"
   ]
  },
  {
   "cell_type": "markdown",
   "metadata": {
    "slideshow": {
     "slide_type": "slide"
    }
   },
   "source": [
    "## Spørsmål 2\n",
    "\n",
    "Hva er returverdien til kallet: `hemmelig(-3)` ?<br/>\n",
    "(Tips: tegn hva som skjer!)"
   ]
  },
  {
   "cell_type": "code",
   "execution_count": 17,
   "metadata": {
    "slideshow": {
     "slide_type": "fragment"
    }
   },
   "outputs": [],
   "source": [
    "def hemmelig(n):\n",
    "    if n==0:\n",
    "        return 1\n",
    "    else:\n",
    "        return 3*hemmelig(n-1)"
   ]
  },
  {
   "cell_type": "markdown",
   "metadata": {
    "slideshow": {
     "slide_type": "fragment"
    }
   },
   "source": [
    "Tilfellet med $n=0$ kalles **grunntilfellet**. Dette er tilfellet som stanser rekursjonen.<br/>\n",
    "Med `hemmelig(-3)` kommer funksjonen aldri til grunntifellet. "
   ]
  },
  {
   "cell_type": "markdown",
   "metadata": {
    "slideshow": {
     "slide_type": "slide"
    }
   },
   "source": [
    "## Spørsmål 3\n",
    "\n",
    "Hva er returverdien til kallet: `superhemmelig(5)` ?<br/>\n",
    "(Tips: tegn hva som skjer!)"
   ]
  },
  {
   "cell_type": "code",
   "execution_count": 18,
   "metadata": {
    "slideshow": {
     "slide_type": "fragment"
    }
   },
   "outputs": [],
   "source": [
    "def superhemmelig(n):\n",
    "    if n<=0:\n",
    "        return 2\n",
    "    else:\n",
    "        return 3+superhemmelig(n-1)+superhemmelig(n-2)"
   ]
  },
  {
   "cell_type": "code",
   "execution_count": 14,
   "metadata": {
    "slideshow": {
     "slide_type": "fragment"
    }
   },
   "outputs": [
    {
     "data": {
      "text/plain": [
       "62"
      ]
     },
     "execution_count": 14,
     "metadata": {},
     "output_type": "execute_result"
    }
   ],
   "source": [
    "superhemmelig(5)"
   ]
  },
  {
   "cell_type": "markdown",
   "metadata": {
    "slideshow": {
     "slide_type": "slide"
    }
   },
   "source": [
    "## Definisjon."
   ]
  },
  {
   "cell_type": "markdown",
   "metadata": {
    "slideshow": {
     "slide_type": "fragment"
    }
   },
   "source": [
    "En **rekursiv** funksjon er en funksjon som kaller på seg selv.<br/>\n",
    "**Grunntilfellet** er tilfellet der man sikrer at rekursjonen stanser."
   ]
  },
  {
   "cell_type": "markdown",
   "metadata": {
    "slideshow": {
     "slide_type": "fragment"
    }
   },
   "source": [
    "...hvorfor trenger man rekursive funksjoner?"
   ]
  },
  {
   "cell_type": "markdown",
   "metadata": {
    "slideshow": {
     "slide_type": "slide"
    }
   },
   "source": [
    "## Aktivitet 1"
   ]
  },
  {
   "cell_type": "markdown",
   "metadata": {
    "slideshow": {
     "slide_type": "fragment"
    }
   },
   "source": [
    "Ta et stykke papir.<br/>\n",
    "Skriv `Grønn` på papiret.<br/>\n",
    "<br/>\n",
    "Vi skal nå se en *rekursiv prosess*."
   ]
  },
  {
   "cell_type": "markdown",
   "metadata": {
    "slideshow": {
     "slide_type": "slide"
    }
   },
   "source": [
    "## Aktivitet 2"
   ]
  },
  {
   "cell_type": "markdown",
   "metadata": {
    "slideshow": {
     "slide_type": "fragment"
    }
   },
   "source": [
    "Hvor er rekursjonen i historien?"
   ]
  },
  {
   "cell_type": "markdown",
   "metadata": {
    "slideshow": {
     "slide_type": "slide"
    }
   },
   "source": [
    "## Aktivitet 3"
   ]
  },
  {
   "cell_type": "markdown",
   "metadata": {
    "slideshow": {
     "slide_type": "fragment"
    }
   },
   "source": [
    "Rekursjon med dokker?<br/>\n",
    "<br/>\n",
    "Rekursjon med kunst?"
   ]
  },
  {
   "cell_type": "markdown",
   "metadata": {
    "slideshow": {
     "slide_type": "slide"
    }
   },
   "source": [
    "## Oppgave 1.\n",
    "<br/>\n",
    "a) Forklar hvorfor $a^n=a\\cdot a^{n-1}$.<br/>\n",
    "b) Hvorfor er formelen ovenfor \"rekursiv\"?<br/>\n",
    "<br/>\n",
    "c) Lag en rekursiv funksjon potens som har et grunntall `a` og eksponent `n` som parametere. <br/>Her er `n` et positivt heltall. Programmet skal regne ut $a^n$ ved rekursjon. (Hint: hva er grunntilfellet her?)"
   ]
  },
  {
   "cell_type": "code",
   "execution_count": 22,
   "metadata": {
    "slideshow": {
     "slide_type": "subslide"
    }
   },
   "outputs": [],
   "source": [
    "def potens(a,n):\n",
    "    if n==1:\n",
    "        return a\n",
    "    else:\n",
    "        return a*potens(a,n-1)"
   ]
  },
  {
   "cell_type": "code",
   "execution_count": 30,
   "metadata": {
    "slideshow": {
     "slide_type": "subslide"
    }
   },
   "outputs": [
    {
     "name": "stdout",
     "output_type": "stream",
     "text": [
      "16\n",
      "125\n",
      "49\n"
     ]
    }
   ],
   "source": [
    "print(potens(2,4))\n",
    "print(potens(5,3))\n",
    "print(potens(7,2))"
   ]
  },
  {
   "cell_type": "markdown",
   "metadata": {
    "slideshow": {
     "slide_type": "slide"
    }
   },
   "source": [
    "## Oppgave 2.\n",
    "\n",
    "Lag en rekursiv funksjon som regner ut summen av de $n$ første naturlige tallene.<br/>\n",
    "<br/>\n",
    "\n",
    "\n",
    "## Oppgave 3.\n",
    "\n",
    "Lag en rekursiv funksjon som regner ut $n!$.<br/>\n",
    "Sammenlign med innleveringen din. Hva er forskjellen mellom rekursjon og en løkke her?\n",
    "<br/>\n",
    "\n",
    "\n",
    "## Oppgave 4.\n",
    "\n",
    "Fibonaccitallene er følgen: $1,1,2,3,5,...$<br/>\n",
    "Lag en rekursiv funksjon `fibonacci` som skriver ut det `n`-te Fibonaccitallet.<br/>\n",
    "<br/>\n",
    "\n",
    "\n",
    "## Oppgave 5.\n",
    "\n",
    "Du har en et A4-ark foran deg og skal lete etter et spesielt ord (som står kun ett sted på arket). Lag tenkt en rekursiv funksjon som leter etter ordet."
   ]
  }
 ],
 "metadata": {
  "celltoolbar": "Slideshow",
  "kernelspec": {
   "display_name": "Python 3",
   "language": "python",
   "name": "python3"
  },
  "language_info": {
   "codemirror_mode": {
    "name": "ipython",
    "version": 3
   },
   "file_extension": ".py",
   "mimetype": "text/x-python",
   "name": "python",
   "nbconvert_exporter": "python",
   "pygments_lexer": "ipython3",
   "version": "3.6.5"
  }
 },
 "nbformat": 4,
 "nbformat_minor": 2
}
