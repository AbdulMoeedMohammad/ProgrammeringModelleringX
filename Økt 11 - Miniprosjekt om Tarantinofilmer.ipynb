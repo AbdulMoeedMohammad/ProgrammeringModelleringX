{
 "cells": [
  {
   "cell_type": "markdown",
   "metadata": {},
   "source": [
    "# Miniprosjekt: Quentin Tarantino"
   ]
  },
  {
   "cell_type": "markdown",
   "metadata": {},
   "source": [
    "<img width=\"30%\" height=\"30%\" src=\"https://imgur.com/VLr6R8q.jpg\">"
   ]
  },
  {
   "cell_type": "markdown",
   "metadata": {},
   "source": [
    "## Oppgave 1 - bakgrunn."
   ]
  },
  {
   "cell_type": "markdown",
   "metadata": {},
   "source": [
    "Quentin Tarantino er en amerikansk regissør kjent for å lage spesielle filmer.<br/>\n",
    "Gjør deg kjent med Tarantino og hans filmer. Noen lenker:<br/><br/>\n",
    "\n",
    "* Wikipedia: https://no.wikipedia.org/wiki/Quentin_Tarantino\n",
    "* IMDb: https://www.imdb.com/name/nm0000233/\n",
    "* Noen av hans mest kjente filmer: https://www.imdb.com/list/ls064788477/<br/><br/>\n",
    "Har du sett noen av filmene hans fra før?\n"
   ]
  },
  {
   "cell_type": "markdown",
   "metadata": {},
   "source": [
    "## Oppgave 2 - om miniprosjektet.\n",
    "\n",
    "Quentin Tarantino filmer er kjent for å ha sterk språkbruk og spesielle dødsscener.<br/>\n",
    "Du skal videre i dette prosjektet utforske dette med et datasett som kartlegger banning og dødsscener i filmene hans.<br/>\n",
    "Poenget blir å lese fra fil, lagre datasettet i spesielle datatyper og så lagre til fil.<br/>\n",
    "<br/>\n",
    "(a). Åpne opp en egen Jupyter Notebook-fil.<br/>\n",
    "(b). Last ned datasettet fra ITL-mappen: Datasett. <br/>\n",
    "(c). Last opp datasettet på Jupyter ved å klikke 'Upload'-knappen."
   ]
  },
  {
   "cell_type": "markdown",
   "metadata": {},
   "source": [
    "## Oppgave 3 - lese inn fra csv-fil.\n",
    "\n",
    "Begynn med å lese inn csv-filen. Gjør noe slikt:"
   ]
  },
  {
   "cell_type": "code",
   "execution_count": 27,
   "metadata": {},
   "outputs": [],
   "source": [
    "import pandas as pd\n",
    "tarantino = pd.read_csv(\"tarantino1.csv\")"
   ]
  },
  {
   "cell_type": "markdown",
   "metadata": {},
   "source": [
    "Dette lagrer datasettet ditt som en DataFrame (slik som på fagdagen)."
   ]
  },
  {
   "cell_type": "markdown",
   "metadata": {},
   "source": [
    "## Oppgave 4 - utforske datasettet 1"
   ]
  },
  {
   "cell_type": "markdown",
   "metadata": {},
   "source": [
    "Du skal nå utforske og se hva som egentlig står i dette datasettet.<br/>\n",
    "Prøv deg frem med noen av disse (ha gjør hver av dem?):<br/><br/>\n",
    "* `print(tarantino)`\n",
    "* `tarantino.head()`\n",
    "* `tarantino.dtypes()`\n",
    "* `tarantino.columns()`\n",
    "* `tarantino.index()`\n",
    "* `tarantino.size()`\n",
    "* `tarantino.info()`\n",
    "* `tarantino.describe()`"
   ]
  },
  {
   "cell_type": "markdown",
   "metadata": {},
   "source": [
    "Hva gjør hver av kommandoene ovenfor?<br/>\n",
    "Hvilken informasjon får du fra dem?<br/>\n",
    "Hva inneholder datasettet? Hvor stor er datasettet?"
   ]
  },
  {
   "cell_type": "markdown",
   "metadata": {},
   "source": [
    "## Oppgave 5 - utforske datasettet 2"
   ]
  },
  {
   "cell_type": "markdown",
   "metadata": {},
   "source": [
    "Hvis du vil hente ut kun en kolonne kan du si: `tarantino['kolonnenavn']`<br/><br/>\n",
    "(a). Prøv å skrive:\n",
    "* `tarantino['movie']`\n",
    "* `tarantino['word']`"
   ]
  },
  {
   "cell_type": "markdown",
   "metadata": {},
   "source": [
    "\n",
    "(b). Hent ut kolonnen med overskrift `type`.<br/>\n",
    "<br/>\n",
    "(c). Hva skjer hvis du du skriver:<br/>\n",
    "* `tarantino[0:3]`\n",
    "* `tarantino[5:8]`\n",
    "* `tarantino.iloc[3]`\n",
    "* `tarantino.iloc[144]`"
   ]
  },
  {
   "cell_type": "markdown",
   "metadata": {},
   "source": [
    "(d). Hent ut rad 10.<br/>\n",
    "(e). Hent ut alle radene f.o.m. rad 50 og t.o.m. rad 100."
   ]
  },
  {
   "cell_type": "markdown",
   "metadata": {},
   "source": [
    "## Oppgave 6 - utforske datasettet 3\n",
    "\n",
    "(a). Prøv å skrive inn følgende:<br/>\n",
    "* `tarantino['word'] == 'fuck'`<br/>\n",
    "Hva returneres her?"
   ]
  },
  {
   "cell_type": "markdown",
   "metadata": {},
   "source": [
    "(b). For å finne alle rader som har verdien `fuck` i kolonna `word` kan man si noe slikt:\n",
    "    <br/>\n",
    "    * tarantino.loc[tarantino['word'] == 'fuck']"
   ]
  },
  {
   "cell_type": "markdown",
   "metadata": {},
   "source": [
    "(c). Finn alle rader med filmen `Pulp Fiction`<br/>\n",
    "(d). Finn alle rader som viser at noen døde."
   ]
  },
  {
   "cell_type": "markdown",
   "metadata": {},
   "source": [
    "## Oppgave 7 - datavisualisering og statistikk 1"
   ]
  },
  {
   "cell_type": "markdown",
   "metadata": {},
   "source": [
    "Hvis du vil sjekke antall verdier i en rad, skriv `tarantino['kolonne'].value_counts()`<br/>\n",
    "<br/>\n",
    "(a). Hvor mange har blitt drept i Tarantinos filmer?<br/>\n",
    "(b). Hvor mange banneord har blitt brukt i Tarantinos filmer?<br/>\n",
    "(c). Hvilke fem banneord er mest brukt i Tarantinos filmer?<br/>\n",
    "(d). Finn andre ting du kan føre statistikk over her."
   ]
  },
  {
   "cell_type": "markdown",
   "metadata": {},
   "source": [
    "## Oppgave 8 - datavisualisering og statistikk 2"
   ]
  },
  {
   "cell_type": "markdown",
   "metadata": {},
   "source": [
    "Nå skal du prøve å visualisere dataene i kjente diagrammer. For å gjøre dette trenger man å hente ut deler av dataene. F.eks. la oss si at vi vil tegne et søylediagram for alle de forskjellige ordene i kolonnen `word` kan man prøve noe slikt:"
   ]
  },
  {
   "cell_type": "markdown",
   "metadata": {},
   "source": [
    "(a). Lag en ny datavariabel kalt `temp` som raden med banneord.<br/>\n",
    "(b). Skriv `temp.dropna()` for å fjerne rader uten ord.<br/>\n",
    "(c). Lag enda en ny datavariabel kalt `telleBanneOrd = temp.value_counts()`<br/>\n",
    "<br/>\n",
    "Ideen nå er å plotte verdiene i `telleBanneOrd`. Her er x-aksen alle ordene, mens y-aksen er frekvensen deres."
   ]
  },
  {
   "cell_type": "markdown",
   "metadata": {},
   "source": [
    "(d). Prøv noe slikt:<br/>\n",
    "* `x=telleBanneOrd.index`\n",
    "* `y=[]`<br/>\n",
    "Lag deretter en løkke:<br/>\n",
    "* `for verdi in telleBanneOrd:`<br/>\n",
    "der man inni løkken skriver noe slikt som `y.append(verdi)`<br/>\n",
    "Dette lager `x` og `y` som du kan plotte som forrige uke."
   ]
  },
  {
   "cell_type": "markdown",
   "metadata": {},
   "source": [
    "## Oppgave 9 - datavisualisering og statistikk 3"
   ]
  },
  {
   "cell_type": "markdown",
   "metadata": {},
   "source": [
    "(a). Prøv å visualisere `x` og `y` slik som sist:<br/><br/>\n",
    "`import matplotlib.pyplot as plt`<br/>\n",
    "`plt.plot(x,y)`<br/>\n",
    "`plt.show()`"
   ]
  },
  {
   "cell_type": "markdown",
   "metadata": {},
   "source": [
    "Hvorfor er en graf slik som dette dårlig visualisering?<br/>\n",
    "<br/>\n",
    "(b). Bruk `plt.bar(x,y)` istedenfor `plt.plot(x,y)`. Hvorfor er dette en bedre visualisering?<br/><br/>\n",
    "(c). Visualiseringen din er fin, men x-aksen er slitsom. Prøv denne kommandoen for å få navnene `plt.xticks(x, x, rotation='vertical')` litt bedre.<br/>\n",
    "(d). Visualiseringen er litt bedre, men uoversiktelig. Hva kan man gjøre annerledes her? (Velge andre deler av data? Annen visualisering?)"
   ]
  },
  {
   "cell_type": "markdown",
   "metadata": {},
   "source": [
    "## Oppgave 10 - prøv selv"
   ]
  },
  {
   "cell_type": "markdown",
   "metadata": {},
   "source": [
    "Velg din favorittfilm blant disse (har du ikke en, så velg en med en kul tittel).<br/>\n",
    "<br/>\n",
    "(a). Lag et søylediagram med tiden som x-aksen og så frekvensen av banneord på y-aksen.<br/>\n",
    "(b). Ser du noen deler av filmen med mye banning? Hvorfor? Finn denne delen av filmen og se det.<br/>\n",
    "(c). Gjør tilsvarende med antall døde. Er det noe som skiller seg ut? Hvorfor?"
   ]
  },
  {
   "cell_type": "markdown",
   "metadata": {},
   "source": [
    "## Oppgave 11 - prøv mer selv\n",
    "\n",
    "Hvilke Tarantinofilmer har flest drepte?<br/>\n",
    "Hvilke Tarantinofilmer har flest banneord?<br/>\n",
    "Hvilke andre ting kan du finne fra dette datasettet?"
   ]
  },
  {
   "cell_type": "markdown",
   "metadata": {},
   "source": [
    "## Oppgave 12 - lagre fil"
   ]
  },
  {
   "cell_type": "markdown",
   "metadata": {},
   "source": [
    "Kanskje vil du lagre deler av datasettet ditt til en fil.<br/>\n",
    "F.eks. hvis vi vil lagre kolonnen `movie` og `word` i en ny csv-fil, så kan vi prøve noe slikt:<br/>\n",
    "<br/>\n"
   ]
  },
  {
   "cell_type": "markdown",
   "metadata": {},
   "source": [
    "`nyData = tarantino[['movie','word']]`<br/>\n",
    "`nyData.to_csv(\"filnavn.csv\")`"
   ]
  },
  {
   "cell_type": "code",
   "execution_count": null,
   "metadata": {},
   "outputs": [],
   "source": []
  }
 ],
 "metadata": {
  "kernelspec": {
   "display_name": "Python 3",
   "language": "python",
   "name": "python3"
  },
  "language_info": {
   "codemirror_mode": {
    "name": "ipython",
    "version": 3
   },
   "file_extension": ".py",
   "mimetype": "text/x-python",
   "name": "python",
   "nbconvert_exporter": "python",
   "pygments_lexer": "ipython3",
   "version": "3.6.5"
  }
 },
 "nbformat": 4,
 "nbformat_minor": 2
}
