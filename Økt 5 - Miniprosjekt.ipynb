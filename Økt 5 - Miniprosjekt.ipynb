{
 "cells": [
  {
   "cell_type": "markdown",
   "metadata": {
    "slideshow": {
     "slide_type": "slide"
    }
   },
   "source": [
    "# Miniprosjekt\n",
    "<br/>\n",
    "\n",
    "1. Litt om Jupyter Notebook.\n",
    "2. Kommentarer.\n",
    "3. Miniprosjekt."
   ]
  },
  {
   "cell_type": "markdown",
   "metadata": {
    "slideshow": {
     "slide_type": "slide"
    }
   },
   "source": [
    "## Jupyter Notebook\n",
    "\n",
    "\n"
   ]
  },
  {
   "cell_type": "markdown",
   "metadata": {
    "slideshow": {
     "slide_type": "slide"
    }
   },
   "source": [
    "## Kommentarer"
   ]
  },
  {
   "cell_type": "code",
   "execution_count": null,
   "metadata": {
    "slideshow": {
     "slide_type": "fragment"
    }
   },
   "outputs": [],
   "source": [
    "n = int(input(\"Har'ru et tall eller?! \")) #Her spør vi brukeren om et heltall vi kaller n\n",
    "sum = 0                                   #Vi lager en variabel som er lik 0 nå.\n",
    "\n",
    "for x in range(1,n+1): #Vi lager en for-løkke som kjører 20 ganger, f.o.m. x=1 t.o.m. x=n\n",
    "    sum  = sum+x       #Her legger vi til tallet x, som det forandrer seg, til sum.\n",
    "\n",
    "print(\"Summen er:\", sum)  #Skriver ut summen etter løkka."
   ]
  },
  {
   "cell_type": "markdown",
   "metadata": {
    "slideshow": {
     "slide_type": "slide"
    }
   },
   "source": [
    "### Miniprosjekt\n",
    "\n",
    "\n",
    "\n"
   ]
  },
  {
   "cell_type": "markdown",
   "metadata": {
    "slideshow": {
     "slide_type": "fragment"
    }
   },
   "source": [
    "#### Oppvarming 1:\n",
    "\n",
    "Klikk deg inn på https://cleverbot.com, https://www.pandorabots.com/mitsuku/, https://onecall.no/chatbot <br/>\n",
    "Dette er alle eksempler på **chatbot**.<br/>\n",
    "<br/>\n",
    "Hvordan kan chatboter gjøre samfunnsnytte? Hva er vanskelig med å lage gode chatboter? Hva vet du/dere om kunstig intelligens? Hvordan lager man en \"smart\" chatbot? Hva er de etiske utfordringene med kunstig intelligens? Diskuter og bruk nettet.\n"
   ]
  },
  {
   "cell_type": "markdown",
   "metadata": {
    "slideshow": {
     "slide_type": "fragment"
    }
   },
   "source": [
    "#### Oppvarming 2:\n",
    "\n",
    "Utforsk spillene på https://archive.org/details/softwarelibrary_msdos_games. Har du spilt noen av disse spillene før? Hva likte du ved dem?<br/>\n",
    "<br/>\n",
    "Søk etter \"textbased\". Spill ett av spillene der. Hva legger du merke til med spillene (grafikk, musikk etc.)? Hva er det \"det typiske\" med slike spill? Hvordan foregår handlingen i spillene? Velg spillet \"Drug Wars\". Ser du hvordan man kunne ha laget et slikt spill?"
   ]
  },
  {
   "cell_type": "markdown",
   "metadata": {
    "slideshow": {
     "slide_type": "slide"
    }
   },
   "source": [
    "## Miniprosjekt\n",
    "<br/>\n",
    "Velg ett av disse to miniprosjektene:<br/>\n",
    "<br/>\n",
    "**Miniprosjekt 1.**<br/>\n",
    "Lag en chatbot. Velg hensikten med chatboten. Hvem skal bruke den? Hva slags informasjon skal chatboten ha? Vær kreativ med å lage chatboten og bruk logiske betingelser og løkker for å få til samtalen.<br/>\n",
    "<br/>\n",
    "**Miniprosjekt 2.**<br/>\n",
    "Lag et tekstbasert spill. Hva skal spillet handle om? Hvordan skal handlingen foregå? Skal det være en \"rpg\" eller et kortere spill? Vær kreativ med innholdet og bruk logiske betingelser og løkker for å få spillet.<br/>\n",
    "<br/>\n",
    "<br/>\n",
    "* Når du har gjort ferdig prosjektet etter en stund, få en annen i klassen til å teste det du har laget.\n",
    "* Jupyter Notebook kan være en fin måte å lagre og presentere tanken bak spillet på.\n",
    "* Lag noe du synes er gøy! :) Ta eierskap! :D"
   ]
  },
  {
   "cell_type": "code",
   "execution_count": null,
   "metadata": {},
   "outputs": [],
   "source": []
  }
 ],
 "metadata": {
  "celltoolbar": "Slideshow",
  "kernelspec": {
   "display_name": "Python 3",
   "language": "python",
   "name": "python3"
  },
  "language_info": {
   "codemirror_mode": {
    "name": "ipython",
    "version": 3
   },
   "file_extension": ".py",
   "mimetype": "text/x-python",
   "name": "python",
   "nbconvert_exporter": "python",
   "pygments_lexer": "ipython3",
   "version": "3.6.5"
  }
 },
 "nbformat": 4,
 "nbformat_minor": 2
}
