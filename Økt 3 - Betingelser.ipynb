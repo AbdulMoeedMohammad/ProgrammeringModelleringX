{
 "cells": [
  {
   "cell_type": "markdown",
   "metadata": {
    "slideshow": {
     "slide_type": "slide"
    }
   },
   "source": [
    "# Plan før lunsj\n",
    "<br/>\n",
    "\n",
    "1. Logiske betingelser (`if`, `elif` og `else`)."
   ]
  },
  {
   "cell_type": "code",
   "execution_count": null,
   "metadata": {
    "slideshow": {
     "slide_type": "slide"
    }
   },
   "outputs": [],
   "source": [
    "a = float(input(\"Tast inn det første tallet: \"))\n",
    "b = float(input(\"Tast inn det andre tallet: \"))\n",
    "\n",
    "if a==b:\n",
    "    print(\"Tallene er like!\")\n",
    "else:\n",
    "    print(\"Tallene er ulike!\")"
   ]
  },
  {
   "cell_type": "code",
   "execution_count": null,
   "metadata": {
    "slideshow": {
     "slide_type": "subslide"
    }
   },
   "outputs": [],
   "source": [
    "# Leksa!\n",
    "\n",
    "x = float(input(\"Tast inn tallet: \"))\n",
    "\n",
    "if x<2018:\n",
    "    print(\"Tallet er mindre enn 2018.\")\n",
    "else:\n",
    "    print(\"Tallet er større eller lik 2018.\")"
   ]
  },
  {
   "cell_type": "markdown",
   "metadata": {
    "slideshow": {
     "slide_type": "slide"
    }
   },
   "source": [
    "## `if` og `else`\n"
   ]
  },
  {
   "cell_type": "code",
   "execution_count": null,
   "metadata": {
    "slideshow": {
     "slide_type": "fragment"
    }
   },
   "outputs": [],
   "source": [
    "if [logisk betingelse]:\n",
    "    Gjør A\n",
    "else:\n",
    "    Gjør B"
   ]
  },
  {
   "cell_type": "markdown",
   "metadata": {
    "slideshow": {
     "slide_type": "slide"
    }
   },
   "source": [
    "### Oppgave 1.\n",
    "\n",
    "Lag et program der brukeren taster inn alderen sin.<br/>\n",
    "Programmet skal fortelle om personen er myndig eller ikke."
   ]
  },
  {
   "cell_type": "markdown",
   "metadata": {
    "slideshow": {
     "slide_type": "slide"
    }
   },
   "source": [
    "### Eksempel:\n",
    "<br/>\n",
    "Lag et program som gjør følgende:<br/>\n",
    "<br/>\n",
    "Input: reell tall x.<br/>\n",
    "Output: om tallet x er positiv, negativ eller null."
   ]
  },
  {
   "cell_type": "code",
   "execution_count": null,
   "metadata": {
    "slideshow": {
     "slide_type": "fragment"
    }
   },
   "outputs": [],
   "source": [
    "x = float(input(\"Tast inn tallet: \"))\n",
    "\n",
    "if x<0:\n",
    "    print(\"Tallet er positivt\")\n",
    "elif x==0:\n",
    "    print(\"Tallet er null.\")\n",
    "else:\n",
    "    print(\"Tallet er negativt.\")"
   ]
  },
  {
   "cell_type": "markdown",
   "metadata": {
    "slideshow": {
     "slide_type": "fragment"
    }
   },
   "source": [
    "* Man kan bruke `elif` for å ha flere tilfeller."
   ]
  },
  {
   "cell_type": "markdown",
   "metadata": {
    "slideshow": {
     "slide_type": "slide"
    }
   },
   "source": [
    "### Oppgave 2.\n",
    "\n",
    "Lag et program som omgjør prosent riktig på en prøve til karakterer.<br/>\n",
    "<br/>\n",
    "Karakter 1: mindre enn 20% riktig.<br/>\n",
    "Karakter 2: mer enn 20% riktig og mindre enn 40% riktig.<br/>\n",
    "Karakter 3: mer enn 40% riktig og mindre enn 60% riktig.<br/>\n",
    "Karakter 4: mer enn 60% riktig og mindre enn 80% riktig.<br/>\n",
    "Karakter 5: mer enn 80% riktig og mindre enn 93% riktig.<br/>\n",
    "Karakter 6: mer enn 93% riktig."
   ]
  },
  {
   "cell_type": "markdown",
   "metadata": {
    "slideshow": {
     "slide_type": "fragment"
    }
   },
   "source": [
    "### Oppgave 3.\n",
    "\n",
    "Lag et program som tar inn sidelengdene til en trekant.<br/>\n",
    "Programmet skal sjekke om trekanten er likesidet, likebent og rettvinklet.<br/>\n"
   ]
  },
  {
   "cell_type": "markdown",
   "metadata": {
    "slideshow": {
     "slide_type": "fragment"
    }
   },
   "source": [
    "### Oppgave 4.\n",
    "\n",
    "Lag et program som løser andregradslikninger på formen $ax^2+bx+c=0$.<br/>\n",
    "(Programmet skal ta hensyn til at en andregradslikning kan ha ingen løsninger)."
   ]
  },
  {
   "cell_type": "markdown",
   "metadata": {
    "slideshow": {
     "slide_type": "slide"
    }
   },
   "source": [
    "### Eksempel:\n",
    "\n",
    "Man kan også ha if-tester \"inni\" andre if-tester."
   ]
  },
  {
   "cell_type": "code",
   "execution_count": null,
   "metadata": {
    "slideshow": {
     "slide_type": "fragment"
    }
   },
   "outputs": [],
   "source": [
    "alder = int(input(\"Tast inn alderen din: \"))\n",
    "\n",
    "if alder>=18:\n",
    "    print(\"Du er myndig!\")\n",
    "    if alder>67:\n",
    "        print(\"Snart pensjonist? \")\n",
    "    else:\n",
    "        print(\"Det er sikkert leeenge til du blir pensjonist, gitt.\")\n",
    "else:\n",
    "    print(\"Du er umyndig.\")"
   ]
  },
  {
   "cell_type": "markdown",
   "metadata": {
    "slideshow": {
     "slide_type": "slide"
    }
   },
   "source": [
    "### Oppgave 5.\n",
    "\n",
    "Lag et program som skal gi billettprisen til en togpassasjer.<br/>\n",
    "Ha alderen til passasjeren som input.<br/>\n",
    "<br/>\n",
    "Hvis passasjeren er under 5 år, da reiser de gratis.<br/>\n",
    "Hvis passasjeren er eldre enn 5, men yngre enn 18 reiser de med barnebillett som koster 30 kr.<br/>\n",
    "Hvis passasjeren er myndig, da skal de kjøpe en voksenbillett som koster 70 kr.<br/>\n",
    "Myndige studenter får 20% rabatt. Pensjonister får 60% rabatt.<br/>\n",
    "(Du kan velge selv hva student og pensjonist skal defineres som).<br/>\n",
    "<br/>\n",
    "Test programmet ditt med alderne 3, 15, 45, 100 og test med/uten student og med/uten pensjonist."
   ]
  },
  {
   "cell_type": "markdown",
   "metadata": {
    "slideshow": {
     "slide_type": "slide"
    }
   },
   "source": [
    "### Oppgave 6.\n",
    "\n",
    "Støy måles med desibelskalaen (dB). Lag et program input er støy målt i dB.<br/>\n",
    "Programmet ditt skal sammenligne input med en tabell med noen av tallene i denne tabellen (du velger selv hvilke og hvor mange):\n",
    "https://www.noisehelp.com/noise-level-chart.html"
   ]
  },
  {
   "cell_type": "markdown",
   "metadata": {
    "slideshow": {
     "slide_type": "slide"
    }
   },
   "source": [
    "### Oppgave 7.\n",
    "\n",
    "Mange formler i Fysikk 1 har tre variabler. F.eks. $\\displaystyle v=\\frac{s}{t}$ har variablene $s$, $v$ og $t$.<br/>\n",
    "<br/>\n",
    "La oss si at vi ønsker at programmet vårt skal bruke denne formelen til å regne ut en av variablene, når de to andre er kjente.<br/><br/>\n",
    "Lag et program der brukeren først skal taste inn hvilken variabel som skal beregnes (nesten som en meny). Deretter skal programmet spørre om de to resterende variblene. Til slutt, skal svaret beregnes med formelen og så skrives som output."
   ]
  },
  {
   "cell_type": "markdown",
   "metadata": {
    "slideshow": {
     "slide_type": "fragment"
    }
   },
   "source": [
    "### Oppgave 8.\n",
    "\n",
    "Velg en spenstigere formel fra matematikk, fysikk, kjemi eller biologi.<br/>\n",
    "Lag et tilsvarende program som i oppgave 5."
   ]
  },
  {
   "cell_type": "markdown",
   "metadata": {
    "slideshow": {
     "slide_type": "slide"
    }
   },
   "source": [
    "### Oppgave 9.\n",
    "\n",
    "Lag et program som tar et heltall, f.o.m. 1 t.o.m. 12 som representerer månedsnummeret. F.eks. `n=1` er januar, `n=2` er februar osv.<br/>\n",
    "Hvis brukeren taster et annet tall skal programmet gi en feilmelding til brukeren. Programmet skal skrive ut antall dager det er i denne måneden.<br/>\n",
    "(Anta først at det er 28 dager i februar. Etter at programmet ditt fungerer skal du ha med årstallet som input og sjekke om det er et skuddår eller ikke. Bruk dette til å avgjøre om det er 28 eller 29 dager i februar.)"
   ]
  },
  {
   "cell_type": "code",
   "execution_count": null,
   "metadata": {
    "slideshow": {
     "slide_type": "slide"
    }
   },
   "outputs": [],
   "source": []
  },
  {
   "cell_type": "code",
   "execution_count": null,
   "metadata": {},
   "outputs": [],
   "source": []
  }
 ],
 "metadata": {
  "celltoolbar": "Slideshow",
  "kernelspec": {
   "display_name": "Python 3",
   "language": "python",
   "name": "python3"
  },
  "language_info": {
   "codemirror_mode": {
    "name": "ipython",
    "version": 3
   },
   "file_extension": ".py",
   "mimetype": "text/x-python",
   "name": "python",
   "nbconvert_exporter": "python",
   "pygments_lexer": "ipython3",
   "version": "3.6.5"
  }
 },
 "nbformat": 4,
 "nbformat_minor": 2
}
