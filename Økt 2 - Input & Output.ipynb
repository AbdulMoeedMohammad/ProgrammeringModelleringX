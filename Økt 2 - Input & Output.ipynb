{
 "cells": [
  {
   "cell_type": "markdown",
   "metadata": {
    "slideshow": {
     "slide_type": "slide"
    }
   },
   "source": [
    "## Input og output"
   ]
  },
  {
   "cell_type": "markdown",
   "metadata": {
    "slideshow": {
     "slide_type": "slide"
    }
   },
   "source": [
    "**Input** = noe brukeren taster inn<br/>\n",
    "**Output** = noe brukeren får tilbake"
   ]
  },
  {
   "cell_type": "code",
   "execution_count": 2,
   "metadata": {
    "slideshow": {
     "slide_type": "slide"
    }
   },
   "outputs": [
    {
     "name": "stdout",
     "output_type": "stream",
     "text": [
      "programmering er..? fett\n",
      "matematikk er også fettfettfettfettfettfettfettfettfettfett\n"
     ]
    }
   ],
   "source": [
    "# Eksempel på input\n",
    "\n",
    "\n",
    "tekst = input(\"programmering er..? \")\n",
    "print(\"matematikk er også\",tekst*10)"
   ]
  },
  {
   "cell_type": "code",
   "execution_count": 3,
   "metadata": {
    "slideshow": {
     "slide_type": "slide"
    }
   },
   "outputs": [
    {
     "name": "stdout",
     "output_type": "stream",
     "text": [
      "Skriv inn fødselsåret ditt: 1999\n"
     ]
    },
    {
     "ename": "TypeError",
     "evalue": "unsupported operand type(s) for -: 'int' and 'str'",
     "output_type": "error",
     "traceback": [
      "\u001b[1;31m---------------------------------------------------------------------------\u001b[0m",
      "\u001b[1;31mTypeError\u001b[0m                                 Traceback (most recent call last)",
      "\u001b[1;32m<ipython-input-3-aa12617fc7f6>\u001b[0m in \u001b[0;36m<module>\u001b[1;34m()\u001b[0m\n\u001b[0;32m      3\u001b[0m \u001b[1;33m\u001b[0m\u001b[0m\n\u001b[0;32m      4\u001b[0m \u001b[0mfodselsaar\u001b[0m \u001b[1;33m=\u001b[0m \u001b[0minput\u001b[0m\u001b[1;33m(\u001b[0m\u001b[1;34m\"Skriv inn fødselsåret ditt: \"\u001b[0m\u001b[1;33m)\u001b[0m\u001b[1;33m\u001b[0m\u001b[0m\n\u001b[1;32m----> 5\u001b[1;33m \u001b[0malder\u001b[0m \u001b[1;33m=\u001b[0m \u001b[1;36m2018\u001b[0m\u001b[1;33m-\u001b[0m\u001b[0mfodselsaar\u001b[0m\u001b[1;33m\u001b[0m\u001b[0m\n\u001b[0m\u001b[0;32m      6\u001b[0m \u001b[0mprint\u001b[0m\u001b[1;33m(\u001b[0m\u001b[0malder\u001b[0m\u001b[1;33m)\u001b[0m\u001b[1;33m\u001b[0m\u001b[0m\n",
      "\u001b[1;31mTypeError\u001b[0m: unsupported operand type(s) for -: 'int' and 'str'"
     ]
    }
   ],
   "source": [
    "# Inntasting lagres som string\n",
    "\n",
    "\n",
    "fodselsaar = input(\"Skriv inn fødselsåret ditt: \")\n",
    "alder = 2018-fodselsaar\n",
    "print(alder)"
   ]
  },
  {
   "cell_type": "code",
   "execution_count": 4,
   "metadata": {
    "slideshow": {
     "slide_type": "subslide"
    }
   },
   "outputs": [
    {
     "name": "stdout",
     "output_type": "stream",
     "text": [
      "Skriv inn fødselsåret ditt: 1986\n",
      "32\n"
     ]
    }
   ],
   "source": [
    "# Noe som ikke gir feilmelding.\n",
    "\n",
    "\n",
    "fodselsaar = int(input(\"Skriv inn fødselsåret ditt: \"))\n",
    "alder = 2018-fodselsaar\n",
    "print(alder)"
   ]
  },
  {
   "cell_type": "markdown",
   "metadata": {
    "slideshow": {
     "slide_type": "slide"
    }
   },
   "source": [
    "### Oppgave 1.\n",
    "\n",
    "Lag et program der brukeren taster inn et tall og programmet returnerer det dobbelte av tallet.\n",
    "\n",
    "\n",
    "### Oppgave 2.\n",
    "\n",
    "Lag et program som regner ut arealet til en sirkel.<br/>\n",
    "<br/>\n",
    "Input: `r` for radien.<br/>\n",
    "Output: omkretsen til sirkelen.  \n",
    "\n",
    "\n",
    "### Oppgave 3.\n",
    "\n",
    "Lag et program som har masse `m` som input og som regner ut energien `E` ved hjelp av `E=mc^2`. \n",
    "\n",
    "\n",
    "### Oppgave 4.\n",
    "\n",
    "Velg en formel fra matematikk, fysikk eller kjemi. Lag et program der du beregner noe med formelen. Hvilke begrensninger måtte du gjøre for å lage programmet? \n",
    "\n",
    "\n",
    "### Flere oppgaver.\n",
    "\n",
    "I læreboka, side 47-52:\n",
    "* 3.3-3.6.3.\n",
    "* 3.7, 3.9-3.12.\n",
    "* 3.14, 3.20, 3.24, 3.27."
   ]
  },
  {
   "cell_type": "code",
   "execution_count": null,
   "metadata": {},
   "outputs": [],
   "source": []
  }
 ],
 "metadata": {
  "celltoolbar": "Slideshow",
  "kernelspec": {
   "display_name": "Python 3",
   "language": "python",
   "name": "python3"
  },
  "language_info": {
   "codemirror_mode": {
    "name": "ipython",
    "version": 3
   },
   "file_extension": ".py",
   "mimetype": "text/x-python",
   "name": "python",
   "nbconvert_exporter": "python",
   "pygments_lexer": "ipython3",
   "version": "3.6.5"
  }
 },
 "nbformat": 4,
 "nbformat_minor": 2
}
