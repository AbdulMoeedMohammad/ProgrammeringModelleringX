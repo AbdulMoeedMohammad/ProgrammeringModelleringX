{
 "cells": [
  {
   "cell_type": "markdown",
   "metadata": {
    "slideshow": {
     "slide_type": "slide"
    }
   },
   "source": [
    "# Plan for dagen\n",
    "\n",
    "1. Input og output.\n",
    "2. Logiske betingelser."
   ]
  },
  {
   "cell_type": "markdown",
   "metadata": {
    "slideshow": {
     "slide_type": "slide"
    }
   },
   "source": [
    "## Input og output\n",
    "\n",
    "**Input** = noe brukeren taster inn<br/>\n",
    "**Output** = noe brukeren får tilbake"
   ]
  },
  {
   "cell_type": "code",
   "execution_count": null,
   "metadata": {
    "slideshow": {
     "slide_type": "slide"
    }
   },
   "outputs": [],
   "source": [
    "# Eksempel på input\n",
    "\n",
    "\n",
    "tekst = input(\"programmering er..? \")\n",
    "print(\"matematikk er også\",tekst*10)"
   ]
  },
  {
   "cell_type": "code",
   "execution_count": null,
   "metadata": {
    "slideshow": {
     "slide_type": "slide"
    }
   },
   "outputs": [],
   "source": [
    "# Inntasting lagres som string\n",
    "\n",
    "\n",
    "fodselsaar = input(\"Skriv inn fødselsåret ditt: \")\n",
    "alder = 2018-fodselsaar\n",
    "print(alder)"
   ]
  },
  {
   "cell_type": "code",
   "execution_count": null,
   "metadata": {
    "slideshow": {
     "slide_type": "subslide"
    }
   },
   "outputs": [],
   "source": [
    "# Noe som ikke gir feilmelding.\n",
    "\n",
    "\n",
    "fodselsaar = int(input(\"Skriv inn fødselsåret ditt: \"))\n",
    "alder = 2018-fodselsaar\n",
    "print(alder)"
   ]
  },
  {
   "cell_type": "markdown",
   "metadata": {
    "slideshow": {
     "slide_type": "slide"
    }
   },
   "source": [
    "### Oppgave 1.\n",
    "\n",
    "Lag et program der brukeren taster inn et tall og programmet returnerer det halvparten av tallet pluss 1.\n",
    "\n",
    "\n",
    "### Oppgave 2.\n",
    "\n",
    "Lag et program som regner ut arealet til en sirkel.<br/>\n",
    "<br/>\n",
    "Input: `r` for radien.<br/>\n",
    "Output: omkretsen til sirkelen.  \n",
    "\n",
    "\n",
    "### Oppgave 3.\n",
    "\n",
    "Lag et program som har masse `m` som input og som regner ut energien `E` ved hjelp av $E=mc^2$. \n",
    "\n",
    "\n",
    "### Oppgave 4.\n",
    "\n",
    "Velg en formel fra matematikk, fysikk eller kjemi.<br/> \n",
    "Lag et program der du beregner noe med formelen. <br/>\n",
    "Hvilke begrensninger måtte du gjøre for å lage programmet? \n",
    "\n",
    "\n"
   ]
  },
  {
   "cell_type": "markdown",
   "metadata": {},
   "source": [
    "### Flere oppgaver.\n",
    "\n",
    "I læreboka, side 47-52:\n",
    "* 3.3-3.6.3.\n",
    "* 3.7, 3.9-3.12.\n",
    "* 3.14, 3.20, 3.24, 3.27."
   ]
  },
  {
   "cell_type": "markdown",
   "metadata": {
    "slideshow": {
     "slide_type": "slide"
    }
   },
   "source": [
    "## Logiske betingelser\n",
    "\n",
    "### `if`, `elif` og `else`:"
   ]
  },
  {
   "cell_type": "markdown",
   "metadata": {
    "slideshow": {
     "slide_type": "slide"
    }
   },
   "source": [
    "Vi vil lage et program som sjekker om to tall $a$ og $b$ er like.<br/>\n",
    "<br/>\n",
    "**Hvis** $a=b$, da skal programmet skrive ut at tallene er like.<br/>\n",
    "**Hvis** $a\\neq b$, da skal programmet skrive ut at tallene er ulike.<br/>\n",
    "<br/>\n",
    "<br/>\n",
    "Her er $a=b$ og $a\\neq b$ **logiske betingelser**.<br/>\n",
    "<br/>\n",
    "Programmet gjør forskjellige ting basert på betingelsene."
   ]
  },
  {
   "cell_type": "code",
   "execution_count": null,
   "metadata": {
    "slideshow": {
     "slide_type": "subslide"
    }
   },
   "outputs": [],
   "source": [
    "a = int(input(\"Tast inn det første tallet: \"))\n",
    "b = int(input(\"Tast inn det andre tallet: \"))\n",
    "\n",
    "if a==b:\n",
    "    print(\"Tallene er like!\")\n",
    "else:\n",
    "    print(\"Tallene er ulike!\")"
   ]
  },
  {
   "cell_type": "markdown",
   "metadata": {
    "slideshow": {
     "slide_type": "slide"
    }
   },
   "source": [
    "### Oppgave 5.\n",
    "\n",
    "Lag et program som tar et heltall `n` som input.<br/>\n",
    "Hvis `n` er et partall, da skal programmet fortelle oss at `n` er et partall.<br/>\n",
    "Ellers, skal programmet fortelles oss at `n` er et oddetall."
   ]
  },
  {
   "cell_type": "code",
   "execution_count": null,
   "metadata": {
    "slideshow": {
     "slide_type": "subslide"
    }
   },
   "outputs": [],
   "source": [
    "n = int(input(\"Skriv inn et heltall: \"))\n",
    "if n%2==0:\n",
    "    print(\"Partall!\")\n",
    "else:\n",
    "    print(\"Oddetall!\")"
   ]
  },
  {
   "cell_type": "code",
   "execution_count": null,
   "metadata": {
    "slideshow": {
     "slide_type": "subslide"
    }
   },
   "outputs": [],
   "source": [
    "n = int(input(\"Skriv inn et heltall: \"))\n",
    "if n%2==0:\n",
    "    print(\"Partall!\")\n",
    "elif n%2==1:\n",
    "    print(\"Oddetall!\")"
   ]
  },
  {
   "cell_type": "markdown",
   "metadata": {
    "slideshow": {
     "slide_type": "slide"
    }
   },
   "source": [
    "### Oppgave 6.\n",
    "\n",
    "Lag et program der brukeren taster inn alderen sin.<br/>\n",
    "Programmet skal fortelle om personen er myndig eller ikke.\n",
    "\n",
    "\n",
    "### Oppgave 7.\n",
    "\n",
    "Lag et program som tar inn sidelengdene til en trekant.<br/>\n",
    "Programmet skal sjekke om trekanten er likesidet, likebent og rettvinklet.<br/>\n",
    "\n",
    "\n",
    "### Oppgave 8.\n",
    "\n",
    "Støy måles med desibelskalaen (dB). Lag et program input er støy målt i dB.<br/>\n",
    "Programmet ditt skal sammenligne input med en tabell med noen av tallene i denne tabellen (du velger selv hvilke og hvor mange):\n",
    "https://www.noisehelp.com/noise-level-chart.html\n",
    "\n",
    "\n",
    "### Oppgave 9.\n",
    "\n",
    "Lag et program som løser andregradslikninger på formen $ax^2+bx+c=0$.<br/>\n",
    "\n",
    "\n",
    "### Oppgave 10.\n",
    "\n",
    "Lag et program som tar et heltall, f.o.m. 1 t.o.m. 12 som representerer månedsnummeret. F.eks. `n=1` er januar, `n=2` er februar osv.<br/>\n",
    "Hvis brukeren taster et annet tall skal programmet gi en feilmelding til brukeren. Programmet skal skrive ut antall dager det er i denne måneden.<br/>\n",
    "(Anta først at det er 28 dager i februar. Etter at programmet ditt fungerer skal du ha med årstallet som input og sjekke om det er et skuddår eller ikke. Bruk dette til å avgjøre om det er 28 eller 29 dager i februar.)"
   ]
  },
  {
   "cell_type": "code",
   "execution_count": null,
   "metadata": {},
   "outputs": [],
   "source": []
  }
 ],
 "metadata": {
  "celltoolbar": "Slideshow",
  "kernelspec": {
   "display_name": "Python 3",
   "language": "python",
   "name": "python3"
  },
  "language_info": {
   "codemirror_mode": {
    "name": "ipython",
    "version": 3
   },
   "file_extension": ".py",
   "mimetype": "text/x-python",
   "name": "python",
   "nbconvert_exporter": "python",
   "pygments_lexer": "ipython3",
   "version": "3.6.5"
  }
 },
 "nbformat": 4,
 "nbformat_minor": 2
}
