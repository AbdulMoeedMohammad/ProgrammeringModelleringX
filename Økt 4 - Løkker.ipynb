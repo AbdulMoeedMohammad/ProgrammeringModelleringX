{
 "cells": [
  {
   "cell_type": "markdown",
   "metadata": {
    "slideshow": {
     "slide_type": "slide"
    }
   },
   "source": [
    "# Plan etter lunsj\n",
    "<br/>\n",
    "\n",
    "1. Løkker (`for` og `while`)."
   ]
  },
  {
   "cell_type": "markdown",
   "metadata": {
    "slideshow": {
     "slide_type": "slide"
    }
   },
   "source": [
    "## Motivasjon\n",
    "\n",
    "\n",
    "Lag et program som skriver ut de første 12 positive heltallene."
   ]
  },
  {
   "cell_type": "code",
   "execution_count": 1,
   "metadata": {
    "slideshow": {
     "slide_type": "fragment"
    }
   },
   "outputs": [
    {
     "name": "stdout",
     "output_type": "stream",
     "text": [
      "1\n",
      "2\n",
      "3\n",
      "4\n",
      "5\n",
      "6\n",
      "7\n",
      "8\n",
      "9\n",
      "10\n",
      "11\n",
      "12\n"
     ]
    }
   ],
   "source": [
    "print(1)\n",
    "print(2)\n",
    "print(3)\n",
    "print(4)\n",
    "print(5)\n",
    "print(6)\n",
    "print(7)\n",
    "print(8)\n",
    "print(9)\n",
    "print(10)\n",
    "print(11)\n",
    "print(12)"
   ]
  },
  {
   "cell_type": "markdown",
   "metadata": {
    "slideshow": {
     "slide_type": "fragment"
    }
   },
   "source": [
    "... lettere måte å gjøre dette på?"
   ]
  },
  {
   "cell_type": "markdown",
   "metadata": {
    "slideshow": {
     "slide_type": "fragment"
    }
   },
   "source": [
    "Svar: lage en **løkke**"
   ]
  },
  {
   "cell_type": "markdown",
   "metadata": {
    "slideshow": {
     "slide_type": "slide"
    }
   },
   "source": [
    "## Løkker\n",
    "<br/>\n",
    "En **løkke** er en programmeringssekvens som gjentar en kode flere ganger.<br/>\n",
    "<br/>\n",
    "Vi skal bl.a. se `for` og `while`-løkker."
   ]
  },
  {
   "cell_type": "markdown",
   "metadata": {
    "slideshow": {
     "slide_type": "slide"
    }
   },
   "source": [
    "### Eksempel:\n",
    "<br/>\n",
    "Lag et program som skriver ut de første 12 positive heltallene."
   ]
  },
  {
   "cell_type": "code",
   "execution_count": 5,
   "metadata": {
    "slideshow": {
     "slide_type": "fragment"
    }
   },
   "outputs": [
    {
     "name": "stdout",
     "output_type": "stream",
     "text": [
      "1\n",
      "2\n",
      "3\n",
      "4\n",
      "5\n",
      "6\n",
      "7\n",
      "8\n",
      "9\n",
      "10\n",
      "11\n",
      "12\n"
     ]
    }
   ],
   "source": [
    "for x in range(1,13):\n",
    "    print(x)"
   ]
  },
  {
   "cell_type": "markdown",
   "metadata": {
    "slideshow": {
     "slide_type": "fragment"
    }
   },
   "source": [
    "Her betyr `range(1,13)` intervallet $[1,13)$.<br/>\n",
    "(F.o.m. verdien 1, og til men ikke med 13)."
   ]
  },
  {
   "cell_type": "markdown",
   "metadata": {
    "slideshow": {
     "slide_type": "slide"
    }
   },
   "source": [
    "### Oppgave 1.\n",
    "\n",
    "Lag et program som skriver ut de heltallene f.o.m. 5 t.o.m. 16."
   ]
  },
  {
   "cell_type": "markdown",
   "metadata": {
    "slideshow": {
     "slide_type": "slide"
    }
   },
   "source": [
    "### Oppgave 2.\n",
    "\n",
    "Diskuter med en partner. Hva gjør programmet under:\n"
   ]
  },
  {
   "cell_type": "code",
   "execution_count": 10,
   "metadata": {
    "slideshow": {
     "slide_type": "fragment"
    }
   },
   "outputs": [
    {
     "name": "stdout",
     "output_type": "stream",
     "text": [
      "4\n",
      "6\n",
      "8\n",
      "10\n",
      "12\n",
      "14\n",
      "16\n",
      "18\n",
      "20\n",
      "22\n",
      "24\n",
      "26\n",
      "28\n"
     ]
    }
   ],
   "source": [
    "for x in range(2,15):\n",
    "    print(2*x)"
   ]
  },
  {
   "cell_type": "markdown",
   "metadata": {
    "slideshow": {
     "slide_type": "slide"
    }
   },
   "source": [
    "### Oppgave 3.\n",
    "\n",
    "(a). Lag et program som skriver ut de første 100 partallene.<br/>\n",
    "(b). Lag et program som skriver ut de første 50 oddetallene.<br/>\n",
    "(c). Lag et program som skriver ut alle kvadratroten til hver av de 50 første positive heltallene.<br/>\n",
    "(d). Lag et program som skriver ut: a, aa, aaa, aaaa, ... , helt til 100 a-er."
   ]
  },
  {
   "cell_type": "markdown",
   "metadata": {
    "slideshow": {
     "slide_type": "slide"
    }
   },
   "source": [
    "### Eksempel:\n",
    "\n",
    "Har du sett dette før $n!$ ?"
   ]
  },
  {
   "cell_type": "markdown",
   "metadata": {
    "slideshow": {
     "slide_type": "fragment"
    }
   },
   "source": [
    "Hvor stort tall er 52! ?<br/>\n",
    "Klarer GeoGebra eller kalkulatoren det?"
   ]
  },
  {
   "cell_type": "code",
   "execution_count": 11,
   "metadata": {
    "slideshow": {
     "slide_type": "subslide"
    }
   },
   "outputs": [
    {
     "name": "stdout",
     "output_type": "stream",
     "text": [
      "80658175170943878571660636856403766975289505440883277824000000000000\n"
     ]
    }
   ],
   "source": [
    "#Regner ut 10!\n",
    "\n",
    "fakultet = 1\n",
    "\n",
    "for x in range(1,53):\n",
    "    fakultet = fakultet*x\n",
    "\n",
    "print(fakultet)"
   ]
  },
  {
   "cell_type": "markdown",
   "metadata": {
    "slideshow": {
     "slide_type": "fragment"
    }
   },
   "source": [
    "`fakultet` er en **global variabel**."
   ]
  },
  {
   "cell_type": "markdown",
   "metadata": {
    "slideshow": {
     "slide_type": "slide"
    }
   },
   "source": [
    "### Oppgave 4.\n",
    "\n",
    "Hva gjør koden nedenfor:"
   ]
  },
  {
   "cell_type": "code",
   "execution_count": 16,
   "metadata": {
    "slideshow": {
     "slide_type": "fragment"
    }
   },
   "outputs": [
    {
     "name": "stdout",
     "output_type": "stream",
     "text": [
      "10\n"
     ]
    }
   ],
   "source": [
    "x = 5\n",
    "x = x*2\n",
    "print(x)"
   ]
  },
  {
   "cell_type": "markdown",
   "metadata": {
    "slideshow": {
     "slide_type": "slide"
    }
   },
   "source": [
    "### Oppgave 5.\n",
    "\n",
    "Hva gjør koden nedenfor:"
   ]
  },
  {
   "cell_type": "code",
   "execution_count": 18,
   "metadata": {
    "slideshow": {
     "slide_type": "fragment"
    }
   },
   "outputs": [
    {
     "name": "stdout",
     "output_type": "stream",
     "text": [
      "2560\n"
     ]
    }
   ],
   "source": [
    "tall = 5\n",
    "\n",
    "for x in range(1,10):\n",
    "    tall = tall*2\n",
    "\n",
    "print(tall)"
   ]
  },
  {
   "cell_type": "markdown",
   "metadata": {
    "slideshow": {
     "slide_type": "slide"
    }
   },
   "source": [
    "### Oppgave 6.\n",
    "\n",
    "Hva er forskjellen på kodene nedenfor?<br/>\n",
    "Prøv å skrive og kjøre dem selv:"
   ]
  },
  {
   "cell_type": "code",
   "execution_count": 21,
   "metadata": {
    "slideshow": {
     "slide_type": "fragment"
    }
   },
   "outputs": [
    {
     "name": "stdout",
     "output_type": "stream",
     "text": [
      "10\n"
     ]
    }
   ],
   "source": [
    "for x in range(1,10):\n",
    "    tall = 5\n",
    "    tall = tall*2\n",
    "\n",
    "print(tall)"
   ]
  },
  {
   "cell_type": "code",
   "execution_count": 20,
   "metadata": {
    "slideshow": {
     "slide_type": "fragment"
    }
   },
   "outputs": [
    {
     "name": "stdout",
     "output_type": "stream",
     "text": [
      "10\n",
      "20\n",
      "40\n",
      "80\n",
      "160\n",
      "320\n",
      "640\n",
      "1280\n",
      "2560\n"
     ]
    }
   ],
   "source": [
    "tall = 5\n",
    "\n",
    "for x in range(1,10):\n",
    "    tall = tall*2\n",
    "    print(tall)"
   ]
  },
  {
   "cell_type": "code",
   "execution_count": 19,
   "metadata": {
    "slideshow": {
     "slide_type": "fragment"
    }
   },
   "outputs": [
    {
     "name": "stdout",
     "output_type": "stream",
     "text": [
      "10\n",
      "10\n",
      "10\n",
      "10\n",
      "10\n",
      "10\n",
      "10\n",
      "10\n",
      "10\n"
     ]
    }
   ],
   "source": [
    "for x in range(1,10):\n",
    "    tall = 5\n",
    "    tall = tall*2\n",
    "    print(tall)"
   ]
  },
  {
   "cell_type": "markdown",
   "metadata": {
    "slideshow": {
     "slide_type": "slide"
    }
   },
   "source": [
    "### Oppgave 7.\n",
    "\n",
    "(a). Lag et program som finner og skriver ut alle heltall mellom 1 og 100 som ikke er i 7-gangeren.<br/>\n",
    "(b). Lag et program som finner og skriver ut alle heltall mellom 1 og 100 som er delelig med 5 men ikke 25.<br/>\n"
   ]
  },
  {
   "cell_type": "markdown",
   "metadata": {
    "slideshow": {
     "slide_type": "fragment"
    }
   },
   "source": [
    "### Oppgave 8.\n",
    "\n",
    "Lag et program som regner ut summen av de positive heltallene f.o.m. 1 t.o.m. `n` (der `n` er et input)."
   ]
  },
  {
   "cell_type": "markdown",
   "metadata": {
    "slideshow": {
     "slide_type": "fragment"
    }
   },
   "source": [
    "### Oppgave 9.\n",
    "\n",
    "Fibonaccitallene er følgen: 1,1,2,3,5,8,...<br/>\n",
    "Lag et program som skriver ut de første 20 Fibonaccitallene. "
   ]
  },
  {
   "cell_type": "markdown",
   "metadata": {
    "slideshow": {
     "slide_type": "slide"
    }
   },
   "source": [
    "### Oppgave 10.\n",
    "\n",
    "Lag et program som har et heltall `n` som input.<br/>\n",
    "Programmet skal avgjøre om `n` er primtall eller ei.<br/>\n",
    "(Gjør fornuftige avveininger med programmet ditt på hvilke tall brukeren kan taste inn).\n"
   ]
  },
  {
   "cell_type": "markdown",
   "metadata": {
    "slideshow": {
     "slide_type": "subslide"
    }
   },
   "source": [
    "### Oppgave 11.\n",
    "\n",
    "Google `while` loops i Python.<br/>\n",
    "Hvordan er de i forhold til `for`?<br/>\n",
    "Fordeler og ulemper?"
   ]
  },
  {
   "cell_type": "code",
   "execution_count": null,
   "metadata": {},
   "outputs": [],
   "source": []
  }
 ],
 "metadata": {
  "celltoolbar": "Slideshow",
  "kernelspec": {
   "display_name": "Python 3",
   "language": "python",
   "name": "python3"
  },
  "language_info": {
   "codemirror_mode": {
    "name": "ipython",
    "version": 3
   },
   "file_extension": ".py",
   "mimetype": "text/x-python",
   "name": "python",
   "nbconvert_exporter": "python",
   "pygments_lexer": "ipython3",
   "version": "3.6.5"
  }
 },
 "nbformat": 4,
 "nbformat_minor": 2
}
