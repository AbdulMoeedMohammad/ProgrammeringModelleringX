{
 "cells": [
  {
   "cell_type": "markdown",
   "metadata": {},
   "source": [
    "# Modellering av differensiallikninger\n",
    "##### Tema: økologi"
   ]
  },
  {
   "cell_type": "markdown",
   "metadata": {},
   "source": [
    "## Introduksjon"
   ]
  },
  {
   "cell_type": "markdown",
   "metadata": {},
   "source": [
    "I dag skal du se hvordan man kan modellere befolkninger med noen differensiallikninger. Underveis skal du også se hvordan man løser systemer av differensiallikninger og hvordan man bruker Eulers metode for differensiallikninger av høyere orden."
   ]
  },
  {
   "cell_type": "markdown",
   "metadata": {},
   "source": [
    "## 1. Enkel populasjon"
   ]
  },
  {
   "cell_type": "markdown",
   "metadata": {},
   "source": [
    "<img src=\"https://static1.squarespace.com/static/56a0d018d8af10528bd54df1/t/584f1d072994ca1083f0f323/1481579788686/\">"
   ]
  },
  {
   "cell_type": "markdown",
   "metadata": {},
   "source": [
    "Vi slipper ut 100 kaniner på en øy. Noen kule biologer drar til øya og registrerer befolkningsveksten til kaninene. De finner ut at til enhver tid vil befolkningsveksten til kaninene øke med $5\\%$ av kaninbefolkningen."
   ]
  },
  {
   "cell_type": "markdown",
   "metadata": {},
   "source": [
    "La $B(t)$ være kaninbestanden $t$ år etter at vi satte ut kaninene på øya."
   ]
  },
  {
   "cell_type": "markdown",
   "metadata": {},
   "source": [
    "(a). Forklar hvorfor problemstillingen gir differensiallikningen: $B' = 0.05\\cdot B$, $B(0)=100$.<br/>\n",
    "(b). Løs differensiallikningen ovenfor med Eulers metode i Python. Tegn grafen til $B$<br/>\n",
    "(c). Hvilken informasjon kan du lese av om bestanden fra grafen til $B$?<br/>\n",
    "(d). Hva skjer hvis vi slapp ut $50$ kaniner i starten? Eller $2$? Eller $200$? Hvordan forandrer kurven seg?<br/>\n",
    "(e). Hva skjer hvis befolkningsveksten økte med $10\\%$ av befolkningen istedenfor? Eller $50\\%$? Eller $1\\%$ ?<br/>\n",
    "(f). Basert på oppgave d og e, hva slags kurve tror du $B$ har? Hvordan kunne du funnet et funksjonsuttrykk for dette?"
   ]
  },
  {
   "cell_type": "markdown",
   "metadata": {},
   "source": [
    "## 2. Enkel populasjon med bæreevne"
   ]
  },
  {
   "cell_type": "markdown",
   "metadata": {},
   "source": [
    "En utfordring med modellen før var at bæreevnen var ikke tatt hensyn til. Man kan modellere med dette, hvis man endrer modellen for differensiallikningen."
   ]
  },
  {
   "cell_type": "markdown",
   "metadata": {},
   "source": [
    "<img src=\"https://ediewater.s3.amazonaws.com/news/images/r_630-bacteria-is-key-to-keeping-drink-water-clean--says-research-.jpg\">"
   ]
  },
  {
   "cell_type": "markdown",
   "metadata": {},
   "source": [
    "Vi har $5000$ bakterier i en beholder med forurenset vann. Bæreevnen til beholderen er $50000$ bakterier. Befolkningsveksten til bakteriene er poporsjonal med antall bakterier til enhver tid. Befolkningsveksten er også proporsjonal med forskjellen mellom bæreevnen og antall bakterier i beholderen, til enhver tid."
   ]
  },
  {
   "cell_type": "markdown",
   "metadata": {},
   "source": [
    "La $N(t)$ være antall bakterier i beholderen etter $t$ timer."
   ]
  },
  {
   "cell_type": "markdown",
   "metadata": {},
   "source": [
    "(a). Hva kan vi si om $N(0)$?<br/>\n",
    "(b). Forklar at dette gir differensiallikningen: $N' = k\\cdot N\\cdot (50000-N)$"
   ]
  },
  {
   "cell_type": "markdown",
   "metadata": {},
   "source": [
    "I begynnelsen vokser bakteriebefolkningen med $900$ antall bakterier per time."
   ]
  },
  {
   "cell_type": "markdown",
   "metadata": {},
   "source": [
    "(c). Forklar hvorfor $k=0.000004$ med regning.<br/>\n",
    "(d). Løs differensiallikningen med Eulers metode i Python.<br/>\n",
    "(e). Hva skjer hvis vi hadde startet med $1000$ bakterier? Eller $12000$? Eller $2$?<br/>\n",
    "(f). Hva skjer hvis bæreevnen hadde vært større, som f.eks. $100000$? Eller mindre?<br/>\n",
    "(g). Spør Abdul om hvilke funksjonsuttrykk som kan passe til $N$ her."
   ]
  },
  {
   "cell_type": "markdown",
   "metadata": {},
   "source": [
    "## 3. Enkel populasjonsmodell med 1 byttedyr og 1 rovdyr"
   ]
  },
  {
   "cell_type": "markdown",
   "metadata": {},
   "source": [
    "For å modellere med både byttedyr og rovdyr trenger man to differensiallikninger, en for hver type dyr. Videre, disse dyrenes bestand påvirker hverandre. En modell for dette er gitt med følgende type differensiallikninger (kalt **Lotka-Volterra differensiallikningene**): "
   ]
  },
  {
   "cell_type": "markdown",
   "metadata": {},
   "source": [
    "La $b(t)$ være antall byttedyr etter $t$ tidsenheter og la $r(t)$ være antall rovdyr etter $t$ tidsenheter. Lotka-Volterra differensiallikningene modellerer bestandene deres med: $$b'=b\\cdot (A-B\\cdot r)$$\n",
    "$$r'=r\\cdot (-C+D\\cdot b)$$\n",
    "der $A,B,C,D>0$ er konstanter. Du skal utforske denne modellen nå. Målet er å se hvordan man løser et slikt system av differensiallikninger, og også hva konstantene $A,B,C,D$ betyr i denne sammenhengen."
   ]
  },
  {
   "cell_type": "markdown",
   "metadata": {},
   "source": [
    "<img src=\"https://i.ytimg.com/vi/gGludGaPKag/maxresdefault.jpg\">"
   ]
  },
  {
   "cell_type": "markdown",
   "metadata": {},
   "source": [
    "Du skal nå modellere en kaninbestand, $b$, og en ulvebestand, $r$, med Lokta-Volterra differensiallikningene."
   ]
  },
  {
   "cell_type": "markdown",
   "metadata": {},
   "source": [
    "(a). Se denne videoen først: <a href=\"https://www.youtube.com/watch?v=gGludGaPKag\">BBC Earth - Wolf Pack Hunts a Hare</a>\n"
   ]
  },
  {
   "cell_type": "markdown",
   "metadata": {},
   "source": [
    "Vi tenker oss at vi starter med 100 kaniner og 100 ulver på en øy. Vi velger $A=0.25$, $B=0.002$, $C=0.1$ og $D=0.5$."
   ]
  },
  {
   "cell_type": "markdown",
   "metadata": {},
   "source": [
    "(b). Hva blir Lotka-Volterra differensiallikningene med dette valget av $A,B,C,D$?"
   ]
  },
  {
   "cell_type": "markdown",
   "metadata": {},
   "source": [
    "(c). Løs Lotka-Volterra differensiallikningene dine med Eulers metode. <br/> \n",
    "(Hint 1: du må lage en funksjon i Python for `bDerivert` og en funksjon for `rDerivert`).<br/>\n",
    "(Hint 2: du må lagre y-verdiene til `b` i en egen liste og y-verdiene til `r` i en egen liste).<br/>\n",
    "Du har \"løst\" likningene når du har tegnet kurvene til $b$ og $r$ i samme koordinatsystem."
   ]
  },
  {
   "cell_type": "markdown",
   "metadata": {},
   "source": [
    "(d). Hva betyr svarene du får grafisk om kaninene og ulvene her? Hvorfor ser kurvene akkurat slik ut?"
   ]
  },
  {
   "cell_type": "markdown",
   "metadata": {},
   "source": [
    "(e). Endre på verdiene til $A,B,C,D$ og se hva som skjer. Klarer du å se om noen av konstantene $A,B,C,D$ klarer å si noe om bestandene?<br/>\n",
    "<br/>\n",
    "(f). Hva skjer med differensiallikningene hvis det vi startet med 0 byttedyr? Hva hvis vi startet med 0 rovdyr? Hva betyr dette for løsningene våre?"
   ]
  },
  {
   "cell_type": "markdown",
   "metadata": {},
   "source": [
    "## 4. Enkel populasjonsmodell med 3 dyr i en matkjede"
   ]
  },
  {
   "cell_type": "markdown",
   "metadata": {},
   "source": [
    "Lotka-Voletrra differensiallikningene forutsatte en næringskjede med 1 byttedyr og 1 rovdyr. Hva hvis man har tre dyr i en næringskjede? F.eks. fisk, seler og isbjørner (seler spiser fisk og isbjørner spiser seler)."
   ]
  },
  {
   "cell_type": "markdown",
   "metadata": {},
   "source": [
    "<img src=\"http://2.bp.blogspot.com/-VlgtB7DoZPU/T19D_oH8z1I/AAAAAAAAAJs/LtnPGH5D4w4/s1600/polar+bear+plus+cub.jpg\">"
   ]
  },
  {
   "cell_type": "markdown",
   "metadata": {},
   "source": [
    "(a). Se denne videoen først: <a href=\"https://www.youtube.com/watch?v=zNO0kxTClYo\">BBC Earth - Polar bear ambushes seal</a>"
   ]
  },
  {
   "cell_type": "markdown",
   "metadata": {},
   "source": [
    "Lotka-Volterra differensiallikningene hadde endret seg slik at vi hadde hatt et system av tre differensiallikninger. Hvis $i(t)$ er antall isbjørn etter $t$ tidsenheter, $s(t)$ er antall sel etter $t$ tidsenheter og $f(t)$ er antall $t$ tidsenheter vil Lotka-Volterra differensiallikningene være:\n",
    "\n",
    "$$f' = f\\cdot (A-B\\cdot s)$$\n",
    "$$s' = s\\cdot (-C+D\\cdot f-E\\cdot i)$$\n",
    "$$i' = i\\cdot (F-G\\cdot s)$$"
   ]
  },
  {
   "cell_type": "markdown",
   "metadata": {},
   "source": [
    "(b). Forsøk å velge konstanter $A,B,C,D,E,F,G$ og initialverdier selv. Hva blir løsningene?"
   ]
  },
  {
   "cell_type": "code",
   "execution_count": null,
   "metadata": {},
   "outputs": [],
   "source": []
  }
 ],
 "metadata": {
  "kernelspec": {
   "display_name": "Python 3",
   "language": "python",
   "name": "python3"
  },
  "language_info": {
   "codemirror_mode": {
    "name": "ipython",
    "version": 3
   },
   "file_extension": ".py",
   "mimetype": "text/x-python",
   "name": "python",
   "nbconvert_exporter": "python",
   "pygments_lexer": "ipython3",
   "version": "3.6.5"
  }
 },
 "nbformat": 4,
 "nbformat_minor": 2
}
