{
 "cells": [
  {
   "cell_type": "markdown",
   "metadata": {
    "slideshow": {
     "slide_type": "slide"
    }
   },
   "source": [
    "# Mer om løkker\n",
    "<br/>\n",
    "\n",
    "1. Løkker (`for` og `while`).\n",
    "2. Forskjellen mellom disse løkkene.\n",
    "3. Trening med løkker."
   ]
  },
  {
   "cell_type": "markdown",
   "metadata": {
    "slideshow": {
     "slide_type": "slide"
    }
   },
   "source": [
    "## Løkker\n",
    "<br/>\n",
    "En **løkke** er en programmeringssekvens som gjentar en kode flere ganger.<br/>\n",
    "<br/>\n",
    "Vi skal bl.a. se `for` og `while`-løkker."
   ]
  },
  {
   "cell_type": "markdown",
   "metadata": {
    "slideshow": {
     "slide_type": "slide"
    }
   },
   "source": [
    "### Eksempel:\n",
    "<br/>\n",
    "Lag et program som skriver ut de første 12 positive heltallene."
   ]
  },
  {
   "cell_type": "code",
   "execution_count": 5,
   "metadata": {
    "slideshow": {
     "slide_type": "fragment"
    }
   },
   "outputs": [
    {
     "name": "stdout",
     "output_type": "stream",
     "text": [
      "1\n",
      "2\n",
      "3\n",
      "4\n",
      "5\n",
      "6\n",
      "7\n",
      "8\n",
      "9\n",
      "10\n",
      "11\n",
      "12\n"
     ]
    }
   ],
   "source": [
    "for x in range(1,13):\n",
    "    print(x)"
   ]
  },
  {
   "cell_type": "markdown",
   "metadata": {
    "slideshow": {
     "slide_type": "slide"
    }
   },
   "source": [
    "## `While`-løkker\n",
    "<br/>\n",
    "<br/>\n",
    "En annen type løkke vi ikke har lært om enda er en `while`-løkke.<br/>\n",
    "<br/>\n",
    "* `for`-løkker gjentar det samme et fast antall ganger.\n",
    "* `while`-løkker gjentar det samme helt til noe endres."
   ]
  },
  {
   "cell_type": "markdown",
   "metadata": {
    "slideshow": {
     "slide_type": "slide"
    }
   },
   "source": [
    "### Eksempel:\n",
    "<br/>\n",
    "<br/>\n",
    "Skriv ut alle kvadrattall mindre enn $1000$."
   ]
  },
  {
   "cell_type": "code",
   "execution_count": null,
   "metadata": {
    "slideshow": {
     "slide_type": "fragment"
    }
   },
   "outputs": [],
   "source": [
    "#Regner ut kvadrattall mindre enn 1000.\n",
    "\n",
    "heltall=1\n",
    "kvadrattall=1\n",
    "\n",
    "while (heltall)**2<1000:\n",
    "    kvadrattall = heltall*heltall\n",
    "    print(kvadrattall)\n",
    "    heltall +=1"
   ]
  },
  {
   "cell_type": "markdown",
   "metadata": {
    "slideshow": {
     "slide_type": "fragment"
    }
   },
   "source": [
    "Flowchart."
   ]
  },
  {
   "cell_type": "markdown",
   "metadata": {
    "slideshow": {
     "slide_type": "slide"
    }
   },
   "source": [
    "### Oppgave 1.\n",
    "\n",
    "Bruk en `while`-løkke til å:<br/>\n",
    "<br/>\n",
    "(a). skrive ut alle kubikktall mindre enn 2000.<br/>\n",
    "(b). skrive ut alle partall mindre enn 2018."
   ]
  },
  {
   "cell_type": "code",
   "execution_count": null,
   "metadata": {
    "slideshow": {
     "slide_type": "subslide"
    }
   },
   "outputs": [],
   "source": [
    "#Regner ut kubikktall mindre enn 2000.\n",
    "\n",
    "heltall=1\n",
    "kubikktall=1\n",
    "\n",
    "while (heltall)**3<2000:\n",
    "    kubikkttall = (heltall)**3\n",
    "    print(kubikkttall)\n",
    "    heltall +=1"
   ]
  },
  {
   "cell_type": "code",
   "execution_count": null,
   "metadata": {
    "slideshow": {
     "slide_type": "fragment"
    }
   },
   "outputs": [],
   "source": [
    "#Regner ut alle partall<2018.\n",
    "\n",
    "heltall=1\n",
    "partall = 2\n",
    "\n",
    "while 2*heltall<2018:\n",
    "    partall = 2*(heltall)\n",
    "    print(partall)\n",
    "    heltall +=1"
   ]
  },
  {
   "cell_type": "markdown",
   "metadata": {
    "slideshow": {
     "slide_type": "slide"
    }
   },
   "source": [
    "## Mer om `while`-løkker.\n",
    "\n",
    "<br/>\n",
    "<br/>\n",
    "En spesiell `while`-løkke i Python3 er `while True:`<br/>\n",
    "Eksempelet i stad kan skrives annerledes:"
   ]
  },
  {
   "cell_type": "code",
   "execution_count": null,
   "metadata": {
    "slideshow": {
     "slide_type": "fragment"
    }
   },
   "outputs": [],
   "source": [
    "# Finner alle kvadrattall mindre enn 2000.\n",
    "\n",
    "heltall=1\n",
    "kvadrattall=1\n",
    "\n",
    "while True:\n",
    "    kvadrattall = heltall*heltall\n",
    "    if kvadrattall>=2000:\n",
    "        break\n",
    "    else:\n",
    "        print(kvadrattall)\n",
    "        heltall +=1"
   ]
  },
  {
   "cell_type": "markdown",
   "metadata": {
    "slideshow": {
     "slide_type": "fragment"
    }
   },
   "source": [
    "`while True:` gjør dette uendelig mange, helt til man møter `break`."
   ]
  },
  {
   "cell_type": "markdown",
   "metadata": {
    "slideshow": {
     "slide_type": "slide"
    }
   },
   "source": [
    "### Oppgave 2.\n",
    "\n",
    "\n",
    "Lag et program som bruker `while True` for å:<br/>\n",
    "<br/>\n",
    "(a). lage et program som skriver ut alle oddetall mindre enn 10000.<br/>\n",
    "(b). lage et program som skriver ut alle positive heltall opphøyd i fire, mindre enn 2000."
   ]
  },
  {
   "cell_type": "markdown",
   "metadata": {
    "slideshow": {
     "slide_type": "slide"
    }
   },
   "source": [
    "### Forskjell mellom `for` og `while`\n",
    "<br/>\n",
    "<br/>\n",
    "**Spørsmål:** Hva er forskjellen mellom `for` og `while`?"
   ]
  },
  {
   "cell_type": "markdown",
   "metadata": {
    "slideshow": {
     "slide_type": "fragment"
    }
   },
   "source": [
    "* I `for`-løkker kjenner man antall ganger man skal gjenta noe.\n",
    "* I `while`-løkker kjenner man ikke antall ganger man skal gjenta noe."
   ]
  },
  {
   "cell_type": "markdown",
   "metadata": {
    "slideshow": {
     "slide_type": "slide"
    }
   },
   "source": [
    "### Oppgave 3.\n",
    "<br/>\n",
    "I disse oppgavene skal du ikke programmere.<br/>\n",
    "Du skal diskutere med en partner om det er lurt å bruke `for` eller `while`.<br/>\n",
    "<br/>\n",
    "(a). Lag et program der man skriver du de første 100 tallene som er i 7-gangeren.<br/>\n",
    "(b). Lag et program der man skriver du tallene i 7-gangeren opp til 12345.<br/>\n",
    "(c). Lag et program der man spør ber brukeren gjette på et svar. Brukeren gjetter helt til man får riktig.<br/>\n",
    "(d). Lag et program der man spør ber brukeren gjette på et svar. Brukeren kan gjette maks 3 ganger.<br/>\n",
    "(e). Lag et program der man skriver ut de 30 første primtallene.<br/>\n",
    "(f). Lag et program der man skriver ut primtallene opp til 2018.<br/>"
   ]
  },
  {
   "cell_type": "markdown",
   "metadata": {
    "slideshow": {
     "slide_type": "subslide"
    }
   },
   "source": [
    "### Svar: oppgave 3.\n",
    "<br/>\n",
    "I disse oppgavene skal du ikke programmere.<br/>\n",
    "Du skal diskutere med en partner om det er lurt å bruke `for` eller `while`.<br/>\n",
    "<br/>\n",
    "(a). Lag et program der man skriver du de første 100 tallene som er i 7-gangeren. **Svar:** `for`<br/>\n",
    "(b). Lag et program der man skriver du tallene i 7-gangeren opp til 12345. **Svar:** `while`<br/>\n",
    "(c). Lag et program der man spør ber brukeren gjette på et svar. Brukeren gjetter helt til man får riktig. **Svar:** `while`<br/>\n",
    "(d). Lag et program der man spør ber brukeren gjette på et svar. Brukeren kan gjette maks 3 ganger. **Svar:** `for`<br/>\n",
    "(e). Lag et program der man skriver ut de 30 første primtallene. **Svar:** `for`<br/>\n",
    "(f). Lag et program der man skriver ut primtallene opp til 2018. **Svar:** `while`<br/>"
   ]
  },
  {
   "cell_type": "markdown",
   "metadata": {
    "slideshow": {
     "slide_type": "slide"
    }
   },
   "source": [
    "### Oppgave 1.\n",
    "\n",
    "Lag et program der du brukeren skal gjette et hemmelig passord.<br/>\n",
    "(a). Lag programmet slik at man har kun 3 muligheter til å gjette.<br/>\n",
    "(b). Lag programmet slik at man kan gjette uendelig mange ganger.<br/>\n",
    "\n",
    "\n",
    "### Oppgave 2.\n",
    "\n",
    "Lag et program som skal skrive ut 17-gangeren<br/>\n",
    "(a). Lag programmet slik at den skriver ut de 100 første tallene i 17-gangeren.<br/>\n",
    "(b). Lag programmet slik at den skriver ut alle tall i 17-gangeren mindre enn 2018.<br/>\n",
    "\n",
    "\n",
    "### Opppgave 3.\n",
    "\n",
    "En divisor til et heltall $n$ er et heltall som går opp i $n$.<br/>\n",
    "F.eks. $2$ er en divisor til $2018$ fordi $\\frac{2018}{2}=1009$ er et heltall.<br/>\n",
    "F.eks. $3$ er ikke en divisor til $25$ fordi $\\frac{25}{3}$ er ikke et heltall.<br/>\n",
    "<br/>\n",
    "(a). Skriv opp alle positive divisorer til tallet 12.<br/>\n",
    "(b). Lag et program som finner alle divisorene til et heltall $n$ (som er en input).<br/>\n",
    "(c). Lag et program som finner den største divisoren til et heltall (som er ulik heltallet).<br/>\n"
   ]
  },
  {
   "cell_type": "markdown",
   "metadata": {
    "slideshow": {
     "slide_type": "slide"
    }
   },
   "source": [
    "\n",
    "### Oppgave 4.\n",
    "\n",
    "Fibonaccifølgen er: 1,1,2,3,5,8,..<br/>\n",
    "(a). Lag et program som skriver ut de 100 første Fibonaccitallene.<br/>\n",
    "(b). Lag et program som skriver ut alle Fibonaccitall mindre enn 2018.\n",
    "\n",
    "\n",
    "\n",
    "### Oppgave 5.\n",
    "\n",
    "Lag et program for restauranten \"Chez Matematique\". De har plass til 100 personer i restauranten. Programmet ditt skal ta i mot reservasjoner av antall besøkende. Brukeren skal taste inn antall som kommer helt til restauranten er full.\n",
    "\n",
    "\n",
    "### Opppgave 6.\n",
    "\n",
    "Lag et Hangman-spill der brukeren skal gjette på et bestemt ord.\n",
    "\n",
    "\n",
    "### Flere oppgaver: i boka.\n",
    "Oppgave 4.3, side 63.<br/>\n",
    "Oppgave 4.13, side 64."
   ]
  },
  {
   "cell_type": "code",
   "execution_count": null,
   "metadata": {},
   "outputs": [],
   "source": []
  }
 ],
 "metadata": {
  "celltoolbar": "Slideshow",
  "kernelspec": {
   "display_name": "Python 3",
   "language": "python",
   "name": "python3"
  },
  "language_info": {
   "codemirror_mode": {
    "name": "ipython",
    "version": 3
   },
   "file_extension": ".py",
   "mimetype": "text/x-python",
   "name": "python",
   "nbconvert_exporter": "python",
   "pygments_lexer": "ipython3",
   "version": "3.6.5"
  }
 },
 "nbformat": 4,
 "nbformat_minor": 2
}
