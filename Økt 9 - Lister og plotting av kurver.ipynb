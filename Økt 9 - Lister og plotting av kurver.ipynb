{
 "cells": [
  {
   "cell_type": "markdown",
   "metadata": {
    "slideshow": {
     "slide_type": "slide"
    }
   },
   "source": [
    "# Lister"
   ]
  },
  {
   "cell_type": "markdown",
   "metadata": {
    "slideshow": {
     "slide_type": "fragment"
    }
   },
   "source": [
    "1. Hva er en liste?\n",
    "2. Hvordan plotte matematiske ting i Python?\n",
    "3. Sammenheng mellom fagdag og i dag."
   ]
  },
  {
   "cell_type": "markdown",
   "metadata": {
    "slideshow": {
     "slide_type": "slide"
    }
   },
   "source": [
    "## Motivasjon\n"
   ]
  },
  {
   "cell_type": "markdown",
   "metadata": {
    "slideshow": {
     "slide_type": "fragment"
    }
   },
   "source": [
    "Hittil har vi alltid lagret *ett* tall eller *en* streng i en variabel.<br/>\n",
    "F.eks. `a=2` eller `tekst=\"Hva skjer?\"`<br/><br/><br/>"
   ]
  },
  {
   "cell_type": "markdown",
   "metadata": {
    "slideshow": {
     "slide_type": "fragment"
    }
   },
   "source": [
    "**Spørsmål** Hvordan lagrer man flere tall eller flere strenger i en variabel?<br/><br/>"
   ]
  },
  {
   "cell_type": "markdown",
   "metadata": {
    "slideshow": {
     "slide_type": "fragment"
    }
   },
   "source": [
    "På fagdagen lagret dere en tabell i variabelen `titanic`.<br/> Hva hvis vi bare lagret en rad eller en kolonne?<br/>"
   ]
  },
  {
   "cell_type": "markdown",
   "metadata": {
    "slideshow": {
     "slide_type": "slide"
    }
   },
   "source": [
    "## Lister"
   ]
  },
  {
   "cell_type": "code",
   "execution_count": 17,
   "metadata": {
    "slideshow": {
     "slide_type": "fragment"
    }
   },
   "outputs": [
    {
     "name": "stdout",
     "output_type": "stream",
     "text": [
      "['matematikk', 'kjemi', 'fysikk']\n"
     ]
    }
   ],
   "source": [
    "liste = ['matematikk', \"kjemi\", \"fysikk\"]\n",
    "print(liste)"
   ]
  },
  {
   "cell_type": "code",
   "execution_count": 4,
   "metadata": {
    "slideshow": {
     "slide_type": "fragment"
    }
   },
   "outputs": [
    {
     "name": "stdout",
     "output_type": "stream",
     "text": [
      "[1, 1, 2, 3, 5, 8]\n"
     ]
    }
   ],
   "source": [
    "liste = [1,1,2,3,5,8]\n",
    "print(liste)"
   ]
  },
  {
   "cell_type": "code",
   "execution_count": 6,
   "metadata": {
    "slideshow": {
     "slide_type": "fragment"
    }
   },
   "outputs": [
    {
     "name": "stdout",
     "output_type": "stream",
     "text": [
      "[True, 5, 'Yo!']\n"
     ]
    }
   ],
   "source": [
    "liste = [True, 5, \"Yo!\"]\n",
    "print(liste)"
   ]
  },
  {
   "cell_type": "markdown",
   "metadata": {
    "slideshow": {
     "slide_type": "slide"
    }
   },
   "source": [
    "## Spørsmål 1\n",
    "<br/>\n",
    "Hva gjør koden nedenfor?"
   ]
  },
  {
   "cell_type": "code",
   "execution_count": 29,
   "metadata": {
    "slideshow": {
     "slide_type": "fragment"
    }
   },
   "outputs": [
    {
     "name": "stdout",
     "output_type": "stream",
     "text": [
      "ali\n",
      "david\n",
      "elise\n",
      "['cathrine', 'david', 'elise']\n"
     ]
    }
   ],
   "source": [
    "liste = [\"ali\",\"bjarne\",\"cathrine\",\"david\",\"elise\"]\n",
    "\n",
    "print(liste[0])\n",
    "print(liste[3])\n",
    "print(liste[4])\n",
    "print(liste[2:5])"
   ]
  },
  {
   "cell_type": "markdown",
   "metadata": {
    "slideshow": {
     "slide_type": "slide"
    }
   },
   "source": [
    "Lister starter nummereringen på 0."
   ]
  },
  {
   "cell_type": "markdown",
   "metadata": {
    "slideshow": {
     "slide_type": "slide"
    }
   },
   "source": [
    "## Spørsmål 2\n",
    "\n",
    "\n",
    "\n",
    "Skriv ned listen `liste=[\"ali\", \"bjarne\", \"cathrine\", \"david\", \"ali\", \"cathrine\", \"cathrine\"]`<br/>\n",
    "Hva gjør følgende:<br/>\n",
    "<br/>\n",
    "(a). `liste[1] = \"bjorn\"`<br/>\n",
    "(b). `liste[2:4]`<br/>\n",
    "(c). `liste[0] == \"ali\"`<br/>\n",
    "(d). `liste.count(\"cathrine\")`<br/>\n",
    "(e). `liste.append(\"frank\")`<br/>\n",
    "(f). `liste.remove(\"ali\")`<br/>\n",
    "(g). `liste.reverse()`<br/>"
   ]
  },
  {
   "cell_type": "markdown",
   "metadata": {
    "slideshow": {
     "slide_type": "slide"
    }
   },
   "source": [
    "![Listeting](https://i.imgur.com/AaUuXuA.png)"
   ]
  },
  {
   "cell_type": "markdown",
   "metadata": {
    "slideshow": {
     "slide_type": "slide"
    }
   },
   "source": [
    "## Søke gjennom lister - finnes  verdien?\n",
    "<br/>\n",
    "Hvordan vite om `\"david\"` er i `liste=[\"ali\", \"bjarne\", \"cathrine\", \"david\", \"ali\", \"cathrine\", \"cathrine\"]`?"
   ]
  },
  {
   "cell_type": "code",
   "execution_count": 28,
   "metadata": {
    "slideshow": {
     "slide_type": "fragment"
    }
   },
   "outputs": [
    {
     "name": "stdout",
     "output_type": "stream",
     "text": [
      "David er på lista!\n"
     ]
    }
   ],
   "source": [
    "liste=[\"ali\", \"bjarne\", \"cathrine\", \"david\", \"ali\", \"cathrine\", \"cathrine\"]\n",
    "\n",
    "if \"david\" in liste:\n",
    "    print(\"David er på lista!\")\n",
    "else:\n",
    "    print(\"Var ingen David her, nei.\")"
   ]
  },
  {
   "cell_type": "markdown",
   "metadata": {
    "slideshow": {
     "slide_type": "slide"
    }
   },
   "source": [
    "## Søke gjennom lister - hvor er verdien?\n",
    "<br/>\n",
    "Hva gjør koden nedenfor?"
   ]
  },
  {
   "cell_type": "code",
   "execution_count": 27,
   "metadata": {
    "scrolled": true,
    "slideshow": {
     "slide_type": "fragment"
    }
   },
   "outputs": [
    {
     "name": "stdout",
     "output_type": "stream",
     "text": [
      "Cathrine på plass 2\n",
      "Cathrine på plass 5\n",
      "Cathrine på plass 6\n"
     ]
    }
   ],
   "source": [
    "liste=[\"ali\", \"bjarne\", \"cathrine\", \"david\", \"ali\", \"cathrine\", \"cathrine\"]\n",
    "\n",
    "for indeks, element in enumerate(liste):\n",
    "    if element == \"cathrine\":\n",
    "        print(\"Cathrine på plass\", indeks)"
   ]
  },
  {
   "cell_type": "markdown",
   "metadata": {
    "slideshow": {
     "slide_type": "slide"
    }
   },
   "source": [
    "## Oppgave 1.\n",
    "<br/>\n",
    "La `fruktKo = [\"appelsin\", \"banan\", \"mango\", \"fersken\", \"eple\", \"eple\", \"appelsin\", \"banan\", \"vannmelon\"]`<br/>\n",
    "Bruk programmering til å svare på om:<br/>\n",
    "<br/>\n",
    "(a). Hvilket frukt tilsvarer `fruktKo[3]`?<br/>\n",
    "(b). Hva skjer hvis vi skriver `fruktKo[2]=melon`<br/>\n",
    "(c). Hva skjer hvis vi skriver `fruktKo[0] == \"appelsin\"`<br/>\n",
    "(d). Hvor mange frukt er det i lista?<br/>\n",
    "(e). Hvor mange epler er det i lista?<br/>\n",
    "(f). Kan du endre rekkefølgen på lista?<br/>\n",
    "(g). Vi spiser alle bananer. Endre lista slik at `bananer` blir borte.<br/>\n",
    "(h). Lag en løkke med en if-test om `kiwi` er i lista.<br/>\n",
    "(i). Legg til `kiwi` etter den første frukten og som den siste frukten."
   ]
  },
  {
   "cell_type": "markdown",
   "metadata": {
    "slideshow": {
     "slide_type": "slide"
    }
   },
   "source": [
    "## Oppgave 2.\n",
    "\n",
    "Lag en funksjon som har to lister som parametere. Funksjonen skal sjekke om listene har like mange elementer. Hvis det er riktig, skal den returnere summen av listene. F.eks. hvis $a=[1,2,3]$ og $b=[4,5,6]$ er $a+b=[1+2,3+4,5+6]$."
   ]
  },
  {
   "cell_type": "markdown",
   "metadata": {
    "slideshow": {
     "slide_type": "fragment"
    }
   },
   "source": [
    "## Oppgave 3.\n",
    "\n",
    "(a). Lag en funksjon som tar en liste som parameter og som returnerer den minste verdien til lista.<br/>\n",
    "(b). Lag en funksjon som tar en liste som parameter og som returnerer summen av elementene i lista."
   ]
  },
  {
   "cell_type": "markdown",
   "metadata": {
    "slideshow": {
     "slide_type": "slide"
    }
   },
   "source": [
    "## Plotte kurver\n",
    "<br/>\n",
    "For hånd: se tavle.<br/>\n",
    "Python: lister med matplotlib."
   ]
  },
  {
   "cell_type": "code",
   "execution_count": 3,
   "metadata": {
    "slideshow": {
     "slide_type": "fragment"
    }
   },
   "outputs": [
    {
     "data": {
      "image/png": "[encoded data removed]",
      "text/plain": [
       "<Figure size 432x288 with 1 Axes>"
      ]
     },
     "metadata": {},
     "output_type": "display_data"
    }
   ],
   "source": [
    "import matplotlib.pyplot as plt\n",
    "plt.plot([1,2,3],[1,4,9])\n",
    "plt.show()"
   ]
  },
  {
   "cell_type": "markdown",
   "metadata": {
    "slideshow": {
     "slide_type": "fragment"
    }
   },
   "source": [
    "`plt.plot` har først $x$-verdiene som parameter, og deretter $y$-verdiene."
   ]
  },
  {
   "cell_type": "markdown",
   "metadata": {
    "slideshow": {
     "slide_type": "slide"
    }
   },
   "source": [
    "## Oppgave 4.\n",
    "\n",
    "Velg en funksjon som f.eks. $f(x)=x^2$. Tegn grafen med `pyplot`.<br/>\n",
    "Hvor mange punkter trengte du? <br/>\n",
    "Ser du en rask måte å lage listene med $x$- og $y$-verdier på?"
   ]
  },
  {
   "cell_type": "markdown",
   "metadata": {
    "slideshow": {
     "slide_type": "fragment"
    }
   },
   "source": [
    "## Oppgave 5.\n",
    "\n",
    "Sjekk ut: https://matplotlib.org/gallery/index.html<br/>\n",
    "Ser du noen kule visualiseringer? Sjekk koden.<br/>\n",
    "Lag noe tilsvarende. Kos deg."
   ]
  }
 ],
 "metadata": {
  "celltoolbar": "Slideshow",
  "kernelspec": {
   "display_name": "Python 3",
   "language": "python",
   "name": "python3"
  },
  "language_info": {
   "codemirror_mode": {
    "name": "ipython",
    "version": 3
   },
   "file_extension": ".py",
   "mimetype": "text/x-python",
   "name": "python",
   "nbconvert_exporter": "python",
   "pygments_lexer": "ipython3",
   "version": "3.6.5"
  }
 },
 "nbformat": 4,
 "nbformat_minor": 2
}
